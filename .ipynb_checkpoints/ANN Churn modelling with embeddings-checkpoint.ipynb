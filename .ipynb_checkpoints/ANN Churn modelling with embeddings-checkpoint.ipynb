{
 "cells": [
  {
   "cell_type": "markdown",
   "metadata": {},
   "source": [
    "# Background"
   ]
  },
  {
   "cell_type": "markdown",
   "metadata": {},
   "source": [
    "Simple churn prediction analysis (whether client leaves a bank or not)."
   ]
  },
  {
   "cell_type": "code",
   "execution_count": 147,
   "metadata": {
    "ExecuteTime": {
     "end_time": "2020-04-15T11:37:15.467864Z",
     "start_time": "2020-04-15T11:37:15.456035Z"
    }
   },
   "outputs": [],
   "source": [
    "import pandas as pd\n",
    "import numpy as np\n",
    "\n",
    "import torch\n",
    "import torch.nn as nn\n",
    "import torch.nn.functional as F\n",
    "\n",
    "from sklearn.model_selection import train_test_split\n",
    "from sklearn.preprocessing import StandardScaler, LabelEncoder, OneHotEncoder\n",
    "\n",
    "import matplotlib.pyplot as plt\n",
    "%matplotlib inline"
   ]
  },
  {
   "cell_type": "markdown",
   "metadata": {},
   "source": [
    "# Import Dataset"
   ]
  },
  {
   "cell_type": "code",
   "execution_count": 148,
   "metadata": {
    "ExecuteTime": {
     "end_time": "2020-04-15T11:37:15.494049Z",
     "start_time": "2020-04-15T11:37:15.470036Z"
    }
   },
   "outputs": [],
   "source": [
    "df = pd.read_csv('Churn_Modelling.csv')"
   ]
  },
  {
   "cell_type": "code",
   "execution_count": 149,
   "metadata": {
    "ExecuteTime": {
     "end_time": "2020-04-15T11:37:15.509035Z",
     "start_time": "2020-04-15T11:37:15.495048Z"
    }
   },
   "outputs": [
    {
     "data": {
      "text/html": [
       "<div>\n",
       "<style scoped>\n",
       "    .dataframe tbody tr th:only-of-type {\n",
       "        vertical-align: middle;\n",
       "    }\n",
       "\n",
       "    .dataframe tbody tr th {\n",
       "        vertical-align: top;\n",
       "    }\n",
       "\n",
       "    .dataframe thead th {\n",
       "        text-align: right;\n",
       "    }\n",
       "</style>\n",
       "<table border=\"1\" class=\"dataframe\">\n",
       "  <thead>\n",
       "    <tr style=\"text-align: right;\">\n",
       "      <th></th>\n",
       "      <th>RowNumber</th>\n",
       "      <th>CustomerId</th>\n",
       "      <th>Surname</th>\n",
       "      <th>CreditScore</th>\n",
       "      <th>Geography</th>\n",
       "      <th>Gender</th>\n",
       "      <th>Age</th>\n",
       "      <th>Tenure</th>\n",
       "      <th>Balance</th>\n",
       "      <th>NumOfProducts</th>\n",
       "      <th>HasCrCard</th>\n",
       "      <th>IsActiveMember</th>\n",
       "      <th>EstimatedSalary</th>\n",
       "      <th>Exited</th>\n",
       "    </tr>\n",
       "  </thead>\n",
       "  <tbody>\n",
       "    <tr>\n",
       "      <th>0</th>\n",
       "      <td>1</td>\n",
       "      <td>15634602</td>\n",
       "      <td>Hargrave</td>\n",
       "      <td>619</td>\n",
       "      <td>France</td>\n",
       "      <td>Female</td>\n",
       "      <td>42</td>\n",
       "      <td>2</td>\n",
       "      <td>0.00</td>\n",
       "      <td>1</td>\n",
       "      <td>1</td>\n",
       "      <td>1</td>\n",
       "      <td>101348.88</td>\n",
       "      <td>1</td>\n",
       "    </tr>\n",
       "    <tr>\n",
       "      <th>1</th>\n",
       "      <td>2</td>\n",
       "      <td>15647311</td>\n",
       "      <td>Hill</td>\n",
       "      <td>608</td>\n",
       "      <td>Spain</td>\n",
       "      <td>Female</td>\n",
       "      <td>41</td>\n",
       "      <td>1</td>\n",
       "      <td>83807.86</td>\n",
       "      <td>1</td>\n",
       "      <td>0</td>\n",
       "      <td>1</td>\n",
       "      <td>112542.58</td>\n",
       "      <td>0</td>\n",
       "    </tr>\n",
       "    <tr>\n",
       "      <th>2</th>\n",
       "      <td>3</td>\n",
       "      <td>15619304</td>\n",
       "      <td>Onio</td>\n",
       "      <td>502</td>\n",
       "      <td>France</td>\n",
       "      <td>Female</td>\n",
       "      <td>42</td>\n",
       "      <td>8</td>\n",
       "      <td>159660.80</td>\n",
       "      <td>3</td>\n",
       "      <td>1</td>\n",
       "      <td>0</td>\n",
       "      <td>113931.57</td>\n",
       "      <td>1</td>\n",
       "    </tr>\n",
       "    <tr>\n",
       "      <th>3</th>\n",
       "      <td>4</td>\n",
       "      <td>15701354</td>\n",
       "      <td>Boni</td>\n",
       "      <td>699</td>\n",
       "      <td>France</td>\n",
       "      <td>Female</td>\n",
       "      <td>39</td>\n",
       "      <td>1</td>\n",
       "      <td>0.00</td>\n",
       "      <td>2</td>\n",
       "      <td>0</td>\n",
       "      <td>0</td>\n",
       "      <td>93826.63</td>\n",
       "      <td>0</td>\n",
       "    </tr>\n",
       "    <tr>\n",
       "      <th>4</th>\n",
       "      <td>5</td>\n",
       "      <td>15737888</td>\n",
       "      <td>Mitchell</td>\n",
       "      <td>850</td>\n",
       "      <td>Spain</td>\n",
       "      <td>Female</td>\n",
       "      <td>43</td>\n",
       "      <td>2</td>\n",
       "      <td>125510.82</td>\n",
       "      <td>1</td>\n",
       "      <td>1</td>\n",
       "      <td>1</td>\n",
       "      <td>79084.10</td>\n",
       "      <td>0</td>\n",
       "    </tr>\n",
       "  </tbody>\n",
       "</table>\n",
       "</div>"
      ],
      "text/plain": [
       "   RowNumber  CustomerId   Surname  CreditScore Geography  Gender  Age  \\\n",
       "0          1    15634602  Hargrave          619    France  Female   42   \n",
       "1          2    15647311      Hill          608     Spain  Female   41   \n",
       "2          3    15619304      Onio          502    France  Female   42   \n",
       "3          4    15701354      Boni          699    France  Female   39   \n",
       "4          5    15737888  Mitchell          850     Spain  Female   43   \n",
       "\n",
       "   Tenure    Balance  NumOfProducts  HasCrCard  IsActiveMember  \\\n",
       "0       2       0.00              1          1               1   \n",
       "1       1   83807.86              1          0               1   \n",
       "2       8  159660.80              3          1               0   \n",
       "3       1       0.00              2          0               0   \n",
       "4       2  125510.82              1          1               1   \n",
       "\n",
       "   EstimatedSalary  Exited  \n",
       "0        101348.88       1  \n",
       "1        112542.58       0  \n",
       "2        113931.57       1  \n",
       "3         93826.63       0  \n",
       "4         79084.10       0  "
      ]
     },
     "execution_count": 149,
     "metadata": {},
     "output_type": "execute_result"
    }
   ],
   "source": [
    "df.head()"
   ]
  },
  {
   "cell_type": "code",
   "execution_count": 150,
   "metadata": {
    "ExecuteTime": {
     "end_time": "2020-04-15T11:37:15.522039Z",
     "start_time": "2020-04-15T11:37:15.511038Z"
    }
   },
   "outputs": [
    {
     "name": "stdout",
     "output_type": "stream",
     "text": [
      "<class 'pandas.core.frame.DataFrame'>\n",
      "RangeIndex: 10000 entries, 0 to 9999\n",
      "Data columns (total 14 columns):\n",
      " #   Column           Non-Null Count  Dtype  \n",
      "---  ------           --------------  -----  \n",
      " 0   RowNumber        10000 non-null  int64  \n",
      " 1   CustomerId       10000 non-null  int64  \n",
      " 2   Surname          10000 non-null  object \n",
      " 3   CreditScore      10000 non-null  int64  \n",
      " 4   Geography        10000 non-null  object \n",
      " 5   Gender           10000 non-null  object \n",
      " 6   Age              10000 non-null  int64  \n",
      " 7   Tenure           10000 non-null  int64  \n",
      " 8   Balance          10000 non-null  float64\n",
      " 9   NumOfProducts    10000 non-null  int64  \n",
      " 10  HasCrCard        10000 non-null  int64  \n",
      " 11  IsActiveMember   10000 non-null  int64  \n",
      " 12  EstimatedSalary  10000 non-null  float64\n",
      " 13  Exited           10000 non-null  int64  \n",
      "dtypes: float64(2), int64(9), object(3)\n",
      "memory usage: 1.1+ MB\n"
     ]
    }
   ],
   "source": [
    "df.info()"
   ]
  },
  {
   "cell_type": "code",
   "execution_count": 151,
   "metadata": {
    "ExecuteTime": {
     "end_time": "2020-04-15T11:37:15.530034Z",
     "start_time": "2020-04-15T11:37:15.523039Z"
    }
   },
   "outputs": [],
   "source": [
    "df.drop(columns=['RowNumber', 'CustomerId', 'Surname'], inplace=True)"
   ]
  },
  {
   "cell_type": "code",
   "execution_count": 152,
   "metadata": {
    "ExecuteTime": {
     "end_time": "2020-04-15T11:37:15.537036Z",
     "start_time": "2020-04-15T11:37:15.532035Z"
    }
   },
   "outputs": [],
   "source": [
    "target = 'Exited'\n",
    "cat_cols = ['Geography', 'Gender', 'HasCrCard', 'IsActiveMember']\n",
    "num_cols = [col for col in df.columns if col not in [target, cat_cols[0], cat_cols[1], 'HasCrCard', 'IsActiveMember']]"
   ]
  },
  {
   "cell_type": "markdown",
   "metadata": {},
   "source": [
    "# Train-test division"
   ]
  },
  {
   "cell_type": "code",
   "execution_count": 153,
   "metadata": {
    "ExecuteTime": {
     "end_time": "2020-04-15T11:37:15.549071Z",
     "start_time": "2020-04-15T11:37:15.539069Z"
    }
   },
   "outputs": [],
   "source": [
    "X_train, X_test, y_train, y_test = train_test_split(\n",
    "    df.drop(target, axis=1), df[target], test_size=.25, random_state=0)"
   ]
  },
  {
   "cell_type": "markdown",
   "metadata": {},
   "source": [
    "# Label Encoding categorical feature"
   ]
  },
  {
   "cell_type": "code",
   "execution_count": 154,
   "metadata": {
    "ExecuteTime": {
     "end_time": "2020-04-15T11:37:15.556038Z",
     "start_time": "2020-04-15T11:37:15.551036Z"
    }
   },
   "outputs": [],
   "source": [
    "l_encoder = LabelEncoder()\n",
    "X_train[cat_cols[0]] = l_encoder.fit_transform(X_train[cat_cols[0]])"
   ]
  },
  {
   "cell_type": "markdown",
   "metadata": {},
   "source": [
    "# One hot encoding categorical feature"
   ]
  },
  {
   "cell_type": "code",
   "execution_count": 155,
   "metadata": {
    "ExecuteTime": {
     "end_time": "2020-04-15T11:37:15.563034Z",
     "start_time": "2020-04-15T11:37:15.558037Z"
    },
    "scrolled": true
   },
   "outputs": [],
   "source": [
    "oh_encoder = OneHotEncoder(sparse=False, drop='first')"
   ]
  },
  {
   "cell_type": "code",
   "execution_count": 156,
   "metadata": {
    "ExecuteTime": {
     "end_time": "2020-04-15T11:37:15.574034Z",
     "start_time": "2020-04-15T11:37:15.565063Z"
    }
   },
   "outputs": [],
   "source": [
    "X_train[cat_cols[1]] = oh_encoder.fit_transform(X_train[cat_cols[1]].values.reshape(-1,1))"
   ]
  },
  {
   "cell_type": "code",
   "execution_count": 157,
   "metadata": {
    "ExecuteTime": {
     "end_time": "2020-04-15T11:37:15.582035Z",
     "start_time": "2020-04-15T11:37:15.576037Z"
    }
   },
   "outputs": [],
   "source": [
    "X_test[cat_cols[0]] = l_encoder.transform(X_test[cat_cols[0]])\n",
    "X_test[cat_cols[1]] = oh_encoder.transform(X_test[cat_cols[1]].values.reshape(-1,1))"
   ]
  },
  {
   "cell_type": "code",
   "execution_count": 158,
   "metadata": {
    "ExecuteTime": {
     "end_time": "2020-04-15T11:37:15.597040Z",
     "start_time": "2020-04-15T11:37:15.584037Z"
    }
   },
   "outputs": [
    {
     "data": {
      "text/plain": [
       "tensor([[1, 0, 0, 0],\n",
       "        [0, 0, 1, 0],\n",
       "        [2, 0, 1, 1],\n",
       "        ...,\n",
       "        [0, 1, 1, 0],\n",
       "        [2, 0, 1, 1],\n",
       "        [1, 0, 1, 0]], device='cuda:0')"
      ]
     },
     "execution_count": 158,
     "metadata": {},
     "output_type": "execute_result"
    }
   ],
   "source": [
    "trn_cats = np.stack([X_train[col].values for col in X_train[cat_cols]], 1)\n",
    "trn_cats = torch.tensor(trn_cats, dtype=torch.int64).cuda()\n",
    "trn_cats"
   ]
  },
  {
   "cell_type": "code",
   "execution_count": 159,
   "metadata": {
    "ExecuteTime": {
     "end_time": "2020-04-15T11:37:15.615039Z",
     "start_time": "2020-04-15T11:37:15.598071Z"
    }
   },
   "outputs": [
    {
     "data": {
      "text/plain": [
       "tensor([[5.7900e+02, 3.9000e+01, 5.0000e+00, 1.1783e+05, 3.0000e+00, 5.8310e+03],\n",
       "        [7.5000e+02, 3.2000e+01, 5.0000e+00, 0.0000e+00, 2.0000e+00, 9.5611e+04],\n",
       "        [7.2900e+02, 3.4000e+01, 9.0000e+00, 5.3300e+04, 2.0000e+00, 4.2856e+04],\n",
       "        ...,\n",
       "        [7.3800e+02, 3.5000e+01, 5.0000e+00, 1.6127e+05, 2.0000e+00, 1.8143e+05],\n",
       "        [5.9000e+02, 3.8000e+01, 9.0000e+00, 0.0000e+00, 2.0000e+00, 1.4875e+05],\n",
       "        [6.2300e+02, 4.8000e+01, 1.0000e+00, 1.0808e+05, 1.0000e+00, 1.1886e+05]],\n",
       "       device='cuda:0')"
      ]
     },
     "execution_count": 159,
     "metadata": {},
     "output_type": "execute_result"
    }
   ],
   "source": [
    "trn_nums = np.stack([X_train[col].values for col in X_train[num_cols]], 1)\n",
    "trn_nums = torch.tensor(trn_nums, dtype=torch.float).cuda()\n",
    "trn_nums"
   ]
  },
  {
   "cell_type": "code",
   "execution_count": 160,
   "metadata": {
    "ExecuteTime": {
     "end_time": "2020-04-15T11:37:15.626035Z",
     "start_time": "2020-04-15T11:37:15.616070Z"
    }
   },
   "outputs": [],
   "source": [
    "cat_size = [X_train[col].nunique() for col in X_train[cat_cols]]\n",
    "emb_size = [(size, min(50, (size+1)//2)) for size in cat_size]"
   ]
  },
  {
   "cell_type": "code",
   "execution_count": 161,
   "metadata": {
    "ExecuteTime": {
     "end_time": "2020-04-15T11:37:15.632035Z",
     "start_time": "2020-04-15T11:37:15.627036Z"
    }
   },
   "outputs": [
    {
     "data": {
      "text/plain": [
       "[(3, 2), (2, 1), (2, 1), (2, 1)]"
      ]
     },
     "execution_count": 161,
     "metadata": {},
     "output_type": "execute_result"
    }
   ],
   "source": [
    "emb_size"
   ]
  },
  {
   "cell_type": "code",
   "execution_count": 162,
   "metadata": {
    "ExecuteTime": {
     "end_time": "2020-04-15T11:37:15.647036Z",
     "start_time": "2020-04-15T11:37:15.634035Z"
    }
   },
   "outputs": [
    {
     "data": {
      "text/plain": [
       "tensor([[1, 0, 1, 1],\n",
       "        [0, 0, 1, 0],\n",
       "        [2, 0, 1, 1],\n",
       "        ...,\n",
       "        [0, 0, 1, 0],\n",
       "        [1, 1, 1, 0],\n",
       "        [0, 1, 0, 0]], device='cuda:0')"
      ]
     },
     "execution_count": 162,
     "metadata": {},
     "output_type": "execute_result"
    }
   ],
   "source": [
    "tst_cats = np.stack([X_test[col].values for col in X_test[cat_cols]], 1)\n",
    "tst_cats = torch.tensor(tst_cats, dtype=torch.int64).cuda()\n",
    "tst_cats"
   ]
  },
  {
   "cell_type": "code",
   "execution_count": 163,
   "metadata": {
    "ExecuteTime": {
     "end_time": "2020-04-15T11:37:15.671648Z",
     "start_time": "2020-04-15T11:37:15.649034Z"
    }
   },
   "outputs": [
    {
     "data": {
      "text/plain": [
       "tensor([[5.9700e+02, 3.5000e+01, 8.0000e+00, 1.3110e+05, 1.0000e+00, 1.9285e+05],\n",
       "        [5.2300e+02, 4.0000e+01, 2.0000e+00, 1.0297e+05, 1.0000e+00, 1.2870e+05],\n",
       "        [7.0600e+02, 4.2000e+01, 8.0000e+00, 9.5387e+04, 1.0000e+00, 7.5732e+04],\n",
       "        ...,\n",
       "        [8.4000e+02, 3.9000e+01, 1.0000e+00, 9.4969e+04, 1.0000e+00, 8.4488e+04],\n",
       "        [6.7900e+02, 3.8000e+01, 7.0000e+00, 1.1056e+05, 2.0000e+00, 4.6523e+04],\n",
       "        [7.3500e+02, 3.1000e+01, 3.0000e+00, 1.1956e+05, 1.0000e+00, 7.2928e+04]],\n",
       "       device='cuda:0')"
      ]
     },
     "execution_count": 163,
     "metadata": {},
     "output_type": "execute_result"
    }
   ],
   "source": [
    "tst_nums = np.stack([X_test[col].values for col in X_test[num_cols]], 1)\n",
    "tst_nums = torch.tensor(tst_nums, dtype=torch.float).cuda()\n",
    "tst_nums"
   ]
  },
  {
   "cell_type": "code",
   "execution_count": 164,
   "metadata": {
    "ExecuteTime": {
     "end_time": "2020-04-15T11:37:15.679648Z",
     "start_time": "2020-04-15T11:37:15.673649Z"
    }
   },
   "outputs": [],
   "source": [
    "y_train_tensor = torch.tensor(y_train.values, dtype=torch.float).flatten().cuda()\n",
    "y_test_tensor = torch.tensor(y_test.values, dtype=torch.float).flatten().cuda()"
   ]
  },
  {
   "cell_type": "code",
   "execution_count": 165,
   "metadata": {
    "ExecuteTime": {
     "end_time": "2020-04-15T11:37:15.690650Z",
     "start_time": "2020-04-15T11:37:15.681649Z"
    }
   },
   "outputs": [
    {
     "data": {
      "text/plain": [
       "tensor([1., 0., 0.,  ..., 0., 0., 1.], device='cuda:0')"
      ]
     },
     "execution_count": 165,
     "metadata": {},
     "output_type": "execute_result"
    }
   ],
   "source": [
    "y_train_tensor"
   ]
  },
  {
   "cell_type": "code",
   "execution_count": 166,
   "metadata": {
    "ExecuteTime": {
     "end_time": "2020-04-15T11:37:15.696649Z",
     "start_time": "2020-04-15T11:37:15.692650Z"
    }
   },
   "outputs": [],
   "source": [
    "train_dataset = torch.utils.data.TensorDataset(trn_cats, trn_nums, y_train_tensor)\n",
    "test_dataset= torch.utils.data.TensorDataset(tst_cats, tst_nums, y_test_tensor)"
   ]
  },
  {
   "cell_type": "markdown",
   "metadata": {},
   "source": [
    "# NN module creation"
   ]
  },
  {
   "cell_type": "markdown",
   "metadata": {},
   "source": [
    "Two hidden layers (fully connected) with ReLU activation function and output layer with sigmoid function (because this is binary classification)."
   ]
  },
  {
   "cell_type": "code",
   "execution_count": 167,
   "metadata": {
    "ExecuteTime": {
     "end_time": "2020-04-15T11:37:15.710650Z",
     "start_time": "2020-04-15T11:37:15.698651Z"
    }
   },
   "outputs": [],
   "source": [
    "class ChurnClassNet(nn.Module):\n",
    "    def __init__(self, emb_size, n_nums, p=.5):\n",
    "        super().__init__()\n",
    "        self.embeds = nn.ModuleList([nn.Embedding(ni, nf) for ni, nf in emb_size])\n",
    "        self.emb_drop = nn.Dropout(p)\n",
    "        self.bn_cont = nn.BatchNorm1d(n_nums)\n",
    "        \n",
    "        n_emb = sum((nf for ni, nf in emb_size))\n",
    "        n_in = n_emb + n_nums\n",
    "        self.layers = nn.Sequential(nn.Linear(n_in, 6),\n",
    "                                    nn.ReLU(inplace=True),\n",
    "                                    nn.Linear(6, 6),\n",
    "                                    nn.ReLU(inplace=True),\n",
    "                                    nn.BatchNorm1d(6),\n",
    "                                    nn.Linear(6, 1),\n",
    "                                    nn.Sigmoid())\n",
    "\n",
    "    def forward(self, x_cat, x_cont):\n",
    "        embeddings = []\n",
    "        for i, e in enumerate(self.embeds):\n",
    "            embeddings.append(e(x_cat[:,i]))\n",
    "        x = torch.cat(embeddings, 1)\n",
    "        x = self.emb_drop(x)\n",
    "        x_cont = self.bn_cont(x_cont)\n",
    "        x = torch.cat([x, x_cont], 1)\n",
    "        return self.layers(x)"
   ]
  },
  {
   "cell_type": "code",
   "execution_count": 168,
   "metadata": {
    "ExecuteTime": {
     "end_time": "2020-04-15T11:37:15.721649Z",
     "start_time": "2020-04-15T11:37:15.712649Z"
    }
   },
   "outputs": [],
   "source": [
    "torch.manual_seed(0)\n",
    "model = ChurnClassNet(emb_size=emb_size, n_nums = trn_nums.shape[1]).cuda()"
   ]
  },
  {
   "cell_type": "code",
   "execution_count": 169,
   "metadata": {
    "ExecuteTime": {
     "end_time": "2020-04-15T11:37:15.730649Z",
     "start_time": "2020-04-15T11:37:15.724649Z"
    }
   },
   "outputs": [
    {
     "name": "stdout",
     "output_type": "stream",
     "text": [
      "6\n",
      "2\n",
      "2\n",
      "2\n",
      "6\n",
      "6\n",
      "66\n",
      "6\n",
      "36\n",
      "6\n",
      "6\n",
      "6\n",
      "6\n",
      "1\n"
     ]
    }
   ],
   "source": [
    "for param in model.parameters():\n",
    "    print(param.numel())"
   ]
  },
  {
   "cell_type": "code",
   "execution_count": 170,
   "metadata": {
    "ExecuteTime": {
     "end_time": "2020-04-15T11:37:15.736648Z",
     "start_time": "2020-04-15T11:37:15.732650Z"
    }
   },
   "outputs": [],
   "source": [
    "criterion = nn.BCELoss()\n",
    "optimizer = torch.optim.Adam(model.parameters(), lr=.001)"
   ]
  },
  {
   "cell_type": "code",
   "execution_count": 171,
   "metadata": {
    "ExecuteTime": {
     "end_time": "2020-04-15T11:37:15.741650Z",
     "start_time": "2020-04-15T11:37:15.738650Z"
    }
   },
   "outputs": [],
   "source": [
    "from sklearn.metrics import accuracy_score"
   ]
  },
  {
   "cell_type": "code",
   "execution_count": 172,
   "metadata": {
    "ExecuteTime": {
     "end_time": "2020-04-15T11:37:15.753653Z",
     "start_time": "2020-04-15T11:37:15.743649Z"
    }
   },
   "outputs": [],
   "source": [
    "from torch.utils.data import DataLoader"
   ]
  },
  {
   "cell_type": "code",
   "execution_count": 173,
   "metadata": {
    "ExecuteTime": {
     "end_time": "2020-04-15T11:37:15.763651Z",
     "start_time": "2020-04-15T11:37:15.756649Z"
    }
   },
   "outputs": [],
   "source": [
    "train_loader = DataLoader(dataset=train_dataset,\n",
    "                         batch_size=10,\n",
    "                         shuffle=True)"
   ]
  },
  {
   "cell_type": "markdown",
   "metadata": {},
   "source": [
    "# Network training"
   ]
  },
  {
   "cell_type": "code",
   "execution_count": 174,
   "metadata": {
    "ExecuteTime": {
     "end_time": "2020-04-15T11:50:55.228581Z",
     "start_time": "2020-04-15T11:37:15.764650Z"
    }
   },
   "outputs": [
    {
     "name": "stdout",
     "output_type": "stream",
     "text": [
      "Epoch: 5 Loss: 0.6990460157394409 Accuracy: 81.28 Test Accuracy: 81.40\n",
      "Epoch: 10 Loss: 0.6205468773841858 Accuracy: 82.19 Test Accuracy: 83.40\n",
      "Epoch: 15 Loss: 0.34563151001930237 Accuracy: 83.05 Test Accuracy: 84.92\n",
      "Epoch: 20 Loss: 0.30303969979286194 Accuracy: 82.79 Test Accuracy: 85.20\n",
      "Epoch: 25 Loss: 0.20610682666301727 Accuracy: 82.80 Test Accuracy: 84.96\n",
      "Epoch: 30 Loss: 0.27023211121559143 Accuracy: 82.81 Test Accuracy: 85.28\n",
      "Epoch: 35 Loss: 0.22554099559783936 Accuracy: 83.21 Test Accuracy: 84.96\n",
      "Epoch: 40 Loss: 0.6364351511001587 Accuracy: 83.41 Test Accuracy: 84.44\n",
      "Epoch: 45 Loss: 0.3912840783596039 Accuracy: 83.37 Test Accuracy: 84.76\n",
      "Epoch: 50 Loss: 0.36208873987197876 Accuracy: 83.29 Test Accuracy: 84.76\n",
      "Epoch: 55 Loss: 0.4670284390449524 Accuracy: 83.51 Test Accuracy: 84.36\n",
      "Epoch: 60 Loss: 0.1826576292514801 Accuracy: 83.61 Test Accuracy: 85.52\n",
      "Epoch: 65 Loss: 0.40298929810523987 Accuracy: 83.49 Test Accuracy: 84.80\n",
      "Epoch: 70 Loss: 0.45569396018981934 Accuracy: 83.73 Test Accuracy: 84.64\n",
      "Epoch: 75 Loss: 0.5772464275360107 Accuracy: 83.51 Test Accuracy: 85.24\n",
      "Epoch: 80 Loss: 0.31063446402549744 Accuracy: 83.33 Test Accuracy: 84.92\n",
      "Epoch: 85 Loss: 0.47387009859085083 Accuracy: 83.63 Test Accuracy: 85.12\n",
      "Epoch: 90 Loss: 0.4102342128753662 Accuracy: 83.88 Test Accuracy: 84.20\n",
      "Epoch: 95 Loss: 0.27960991859436035 Accuracy: 83.79 Test Accuracy: 85.04\n",
      "Epoch: 100 Loss: 0.1355905383825302 Accuracy: 83.95 Test Accuracy: 84.60\n",
      "Duration of training: 13.66 minutes\n"
     ]
    }
   ],
   "source": [
    "import time\n",
    "start_time = time.time()\n",
    "\n",
    "epochs = 100\n",
    "train_loss = []\n",
    "test_loss = []\n",
    "train_accuracy = []\n",
    "test_accuracy = []\n",
    "\n",
    "for i in range(epochs):\n",
    "    i += 1\n",
    "    trn_corr = 0\n",
    "    for b, (cat_cols, num_cols, y_train) in enumerate(train_loader):\n",
    "        y_pred = model(cat_cols, num_cols)\n",
    "        loss = criterion(y_pred, y_train.reshape(-1,1))\n",
    "        y_pred = y_pred.cpu()\n",
    "        y_pred = np.where(y_pred > .5, 1, 0)\n",
    "        y_pred = y_pred.reshape(1,-1)\n",
    "        batch_corr = (y_pred == y_train.cpu().numpy()).sum()\n",
    "        trn_corr += batch_corr\n",
    "        \n",
    "        \n",
    "        optimizer.zero_grad()\n",
    "        loss.backward()\n",
    "        optimizer.step()\n",
    "    \n",
    "    trn_acc = trn_corr/7500\n",
    "    train_accuracy.append(trn_acc)\n",
    "    train_loss.append(loss)\n",
    "    \n",
    "    with torch.no_grad():\n",
    "        y_pred = model(tst_cats, tst_nums)\n",
    "        tst_loss = criterion(y_pred, y_test_tensor.reshape(-1,1))\n",
    "        test_loss.append(tst_loss)\n",
    "        \n",
    "        y_pred = y_pred.cpu()\n",
    "        y_pred = np.where(y_pred > .5, 1,0)\n",
    "        tst_acc = accuracy_score(y_test, y_pred)\n",
    "        test_accuracy.append(tst_acc)\n",
    "    if i%5==0:\n",
    "        print(f'Epoch: {i} Loss: {loss.item()} Accuracy: {trn_acc*100:.2f} Test Accuracy: {tst_acc*100:.2f}')\n",
    "\n",
    "print(f'Duration of training: {(time.time() - start_time)/60:.2f} minutes')"
   ]
  },
  {
   "cell_type": "markdown",
   "metadata": {},
   "source": [
    "# Metrics vizualizations"
   ]
  },
  {
   "cell_type": "code",
   "execution_count": 175,
   "metadata": {
    "ExecuteTime": {
     "end_time": "2020-04-15T11:50:55.385608Z",
     "start_time": "2020-04-15T11:50:55.229625Z"
    }
   },
   "outputs": [
    {
     "data": {
      "text/plain": [
       "Text(0, 0.5, 'Binary CrossEntropy Loss')"
      ]
     },
     "execution_count": 175,
     "metadata": {},
     "output_type": "execute_result"
    },
    {
     "data": {
      "image/png": "[encoded data removed]",
      "text/plain": [
       "<Figure size 1440x360 with 1 Axes>"
      ]
     },
     "metadata": {
      "needs_background": "light"
     },
     "output_type": "display_data"
    }
   ],
   "source": [
    "plt.figure(figsize=(20,5))\n",
    "plt.plot(range(epochs), train_accuracy, label = 'train accuracy')\n",
    "plt.plot(range(epochs), test_accuracy, label = 'test accuracy')\n",
    "plt.legend()\n",
    "plt.xlabel('Epochs')\n",
    "plt.ylabel('Binary CrossEntropy Loss')"
   ]
  },
  {
   "cell_type": "code",
   "execution_count": 176,
   "metadata": {
    "ExecuteTime": {
     "end_time": "2020-04-15T11:50:55.555586Z",
     "start_time": "2020-04-15T11:50:55.386581Z"
    },
    "scrolled": true
   },
   "outputs": [
    {
     "data": {
      "text/plain": [
       "Text(0, 0.5, 'Accuracy score')"
      ]
     },
     "execution_count": 176,
     "metadata": {},
     "output_type": "execute_result"
    },
    {
     "data": {
      "image/png": "[encoded data removed]",
      "text/plain": [
       "<Figure size 1440x360 with 1 Axes>"
      ]
     },
     "metadata": {
      "needs_background": "light"
     },
     "output_type": "display_data"
    }
   ],
   "source": [
    "plt.figure(figsize=(20,5))\n",
    "plt.plot(range(epochs), train_loss, label = 'train loss')\n",
    "plt.plot(range(epochs), test_loss, label = 'test loss')\n",
    "plt.legend()\n",
    "plt.xlabel('Epochs')\n",
    "plt.ylabel('Accuracy score')"
   ]
  },
  {
   "cell_type": "markdown",
   "metadata": {},
   "source": [
    "# ROC curve to set bes threshold"
   ]
  },
  {
   "cell_type": "code",
   "execution_count": 178,
   "metadata": {
    "ExecuteTime": {
     "end_time": "2020-04-15T11:51:16.626325Z",
     "start_time": "2020-04-15T11:51:16.608324Z"
    }
   },
   "outputs": [],
   "source": [
    "with torch.no_grad():\n",
    "    y_pred = model(tst_cats, tst_nums)"
   ]
  },
  {
   "cell_type": "code",
   "execution_count": 179,
   "metadata": {
    "ExecuteTime": {
     "end_time": "2020-04-15T11:51:19.202330Z",
     "start_time": "2020-04-15T11:51:19.199325Z"
    }
   },
   "outputs": [],
   "source": [
    "from sklearn.metrics import roc_curve"
   ]
  },
  {
   "cell_type": "code",
   "execution_count": 180,
   "metadata": {
    "ExecuteTime": {
     "end_time": "2020-04-15T11:51:21.469867Z",
     "start_time": "2020-04-15T11:51:21.455834Z"
    }
   },
   "outputs": [],
   "source": [
    "fpr, tpr, threshold = roc_curve(y_test, y_pred.cpu())"
   ]
  },
  {
   "cell_type": "code",
   "execution_count": 181,
   "metadata": {
    "ExecuteTime": {
     "end_time": "2020-04-15T11:51:23.933472Z",
     "start_time": "2020-04-15T11:51:23.825467Z"
    }
   },
   "outputs": [
    {
     "data": {
      "text/plain": [
       "Text(0, 0.5, 'True Positive Ratio')"
      ]
     },
     "execution_count": 181,
     "metadata": {},
     "output_type": "execute_result"
    },
    {
     "data": {
      "image/png": "[encoded data removed]",
      "text/plain": [
       "<Figure size 504x504 with 1 Axes>"
      ]
     },
     "metadata": {
      "needs_background": "light"
     },
     "output_type": "display_data"
    }
   ],
   "source": [
    "plt.figure(figsize=(7,7))\n",
    "plt.plot(fpr, tpr)\n",
    "plt.xlabel('False Positive Ratio')\n",
    "plt.ylabel('True Positive Ratio')"
   ]
  },
  {
   "cell_type": "code",
   "execution_count": 182,
   "metadata": {
    "ExecuteTime": {
     "end_time": "2020-04-15T11:51:26.397154Z",
     "start_time": "2020-04-15T11:51:26.388003Z"
    },
    "scrolled": true
   },
   "outputs": [
    {
     "data": {
      "text/plain": [
       "0.14720869"
      ]
     },
     "execution_count": 182,
     "metadata": {},
     "output_type": "execute_result"
    }
   ],
   "source": [
    "threshold[(tpr >=.8) & (tpr <=.85) & (fpr >= .3) & (fpr <= .35)].mean()"
   ]
  },
  {
   "cell_type": "markdown",
   "metadata": {},
   "source": [
    "Basing on test data - best theshold would be somewhere around 0,15."
   ]
  },
  {
   "cell_type": "markdown",
   "metadata": {},
   "source": [
    "# Next steps"
   ]
  },
  {
   "cell_type": "markdown",
   "metadata": {},
   "source": [
    "NN with embeddings has similar quality to previous one."
   ]
  }
 ],
 "metadata": {
  "kernelspec": {
   "display_name": "Python 3",
   "language": "python",
   "name": "python3"
  },
  "language_info": {
   "codemirror_mode": {
    "name": "ipython",
    "version": 3
   },
   "file_extension": ".py",
   "mimetype": "text/x-python",
   "name": "python",
   "nbconvert_exporter": "python",
   "pygments_lexer": "ipython3",
   "version": "3.7.7"
  },
  "toc": {
   "base_numbering": 1,
   "nav_menu": {},
   "number_sections": true,
   "sideBar": true,
   "skip_h1_title": false,
   "title_cell": "Table of Contents",
   "title_sidebar": "Contents",
   "toc_cell": false,
   "toc_position": {},
   "toc_section_display": true,
   "toc_window_display": false
  },
  "varInspector": {
   "cols": {
    "lenName": 16,
    "lenType": 16,
    "lenVar": 40
   },
   "kernels_config": {
    "python": {
     "delete_cmd_postfix": "",
     "delete_cmd_prefix": "del ",
     "library": "var_list.py",
     "varRefreshCmd": "print(var_dic_list())"
    },
    "r": {
     "delete_cmd_postfix": ") ",
     "delete_cmd_prefix": "rm(",
     "library": "var_list.r",
     "varRefreshCmd": "cat(var_dic_list()) "
    }
   },
   "types_to_exclude": [
    "module",
    "function",
    "builtin_function_or_method",
    "instance",
    "_Feature"
   ],
   "window_display": false
  }
 },
 "nbformat": 4,
 "nbformat_minor": 4
}
