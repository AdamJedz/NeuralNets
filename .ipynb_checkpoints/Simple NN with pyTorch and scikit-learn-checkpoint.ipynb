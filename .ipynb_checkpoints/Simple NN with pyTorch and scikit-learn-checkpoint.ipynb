{
 "cells": [
  {
   "cell_type": "markdown",
   "metadata": {},
   "source": [
    "# Background"
   ]
  },
  {
   "cell_type": "markdown",
   "metadata": {},
   "source": [
    "Simple NN using pyTorch:\n",
    "    * Classification problem (binary),\n",
    "    * Based on features like: age, sex, education, marital status, workclass etc. needs to predict whether persons'income  \n",
    "    is higher or lower than 50k."
   ]
  },
  {
   "cell_type": "code",
   "execution_count": 363,
   "metadata": {
    "ExecuteTime": {
     "end_time": "2020-04-11T11:21:05.181517Z",
     "start_time": "2020-04-11T11:21:05.174513Z"
    }
   },
   "outputs": [],
   "source": [
    "import torch\n",
    "import torch.nn as nn\n",
    "import torch.nn.functional as F\n",
    "import skorch\n",
    "\n",
    "import numpy as np\n",
    "import pandas as pd\n",
    "\n",
    "import matplotlib.pyplot as plt\n",
    "%matplotlib inline"
   ]
  },
  {
   "cell_type": "markdown",
   "metadata": {},
   "source": [
    "# DF import"
   ]
  },
  {
   "cell_type": "code",
   "execution_count": 364,
   "metadata": {
    "ExecuteTime": {
     "end_time": "2020-04-11T11:21:05.227363Z",
     "start_time": "2020-04-11T11:21:05.183519Z"
    }
   },
   "outputs": [],
   "source": [
    "df = pd.read_csv('income.csv')"
   ]
  },
  {
   "cell_type": "code",
   "execution_count": 365,
   "metadata": {
    "ExecuteTime": {
     "end_time": "2020-04-11T11:21:05.250571Z",
     "start_time": "2020-04-11T11:21:05.229368Z"
    }
   },
   "outputs": [
    {
     "data": {
      "text/html": [
       "<div>\n",
       "<style scoped>\n",
       "    .dataframe tbody tr th:only-of-type {\n",
       "        vertical-align: middle;\n",
       "    }\n",
       "\n",
       "    .dataframe tbody tr th {\n",
       "        vertical-align: top;\n",
       "    }\n",
       "\n",
       "    .dataframe thead th {\n",
       "        text-align: right;\n",
       "    }\n",
       "</style>\n",
       "<table border=\"1\" class=\"dataframe\">\n",
       "  <thead>\n",
       "    <tr style=\"text-align: right;\">\n",
       "      <th></th>\n",
       "      <th>age</th>\n",
       "      <th>sex</th>\n",
       "      <th>education</th>\n",
       "      <th>education-num</th>\n",
       "      <th>marital-status</th>\n",
       "      <th>workclass</th>\n",
       "      <th>occupation</th>\n",
       "      <th>hours-per-week</th>\n",
       "      <th>income</th>\n",
       "      <th>label</th>\n",
       "    </tr>\n",
       "  </thead>\n",
       "  <tbody>\n",
       "    <tr>\n",
       "      <th>0</th>\n",
       "      <td>27</td>\n",
       "      <td>Male</td>\n",
       "      <td>HS-grad</td>\n",
       "      <td>9</td>\n",
       "      <td>Never-married</td>\n",
       "      <td>Private</td>\n",
       "      <td>Craft-repair</td>\n",
       "      <td>40</td>\n",
       "      <td>&lt;=50K</td>\n",
       "      <td>0</td>\n",
       "    </tr>\n",
       "    <tr>\n",
       "      <th>1</th>\n",
       "      <td>47</td>\n",
       "      <td>Male</td>\n",
       "      <td>Masters</td>\n",
       "      <td>14</td>\n",
       "      <td>Married</td>\n",
       "      <td>Local-gov</td>\n",
       "      <td>Exec-managerial</td>\n",
       "      <td>50</td>\n",
       "      <td>&gt;50K</td>\n",
       "      <td>1</td>\n",
       "    </tr>\n",
       "    <tr>\n",
       "      <th>2</th>\n",
       "      <td>59</td>\n",
       "      <td>Male</td>\n",
       "      <td>HS-grad</td>\n",
       "      <td>9</td>\n",
       "      <td>Divorced</td>\n",
       "      <td>Self-emp</td>\n",
       "      <td>Prof-specialty</td>\n",
       "      <td>20</td>\n",
       "      <td>&lt;=50K</td>\n",
       "      <td>0</td>\n",
       "    </tr>\n",
       "    <tr>\n",
       "      <th>3</th>\n",
       "      <td>38</td>\n",
       "      <td>Female</td>\n",
       "      <td>Prof-school</td>\n",
       "      <td>15</td>\n",
       "      <td>Never-married</td>\n",
       "      <td>Federal-gov</td>\n",
       "      <td>Prof-specialty</td>\n",
       "      <td>57</td>\n",
       "      <td>&gt;50K</td>\n",
       "      <td>1</td>\n",
       "    </tr>\n",
       "    <tr>\n",
       "      <th>4</th>\n",
       "      <td>64</td>\n",
       "      <td>Female</td>\n",
       "      <td>11th</td>\n",
       "      <td>7</td>\n",
       "      <td>Widowed</td>\n",
       "      <td>Private</td>\n",
       "      <td>Farming-fishing</td>\n",
       "      <td>40</td>\n",
       "      <td>&lt;=50K</td>\n",
       "      <td>0</td>\n",
       "    </tr>\n",
       "  </tbody>\n",
       "</table>\n",
       "</div>"
      ],
      "text/plain": [
       "   age     sex    education  education-num marital-status    workclass  \\\n",
       "0   27    Male      HS-grad              9  Never-married      Private   \n",
       "1   47    Male      Masters             14        Married    Local-gov   \n",
       "2   59    Male      HS-grad              9       Divorced     Self-emp   \n",
       "3   38  Female  Prof-school             15  Never-married  Federal-gov   \n",
       "4   64  Female         11th              7        Widowed      Private   \n",
       "\n",
       "        occupation  hours-per-week income  label  \n",
       "0     Craft-repair              40  <=50K      0  \n",
       "1  Exec-managerial              50   >50K      1  \n",
       "2   Prof-specialty              20  <=50K      0  \n",
       "3   Prof-specialty              57   >50K      1  \n",
       "4  Farming-fishing              40  <=50K      0  "
      ]
     },
     "execution_count": 365,
     "metadata": {},
     "output_type": "execute_result"
    }
   ],
   "source": [
    "df.head()"
   ]
  },
  {
   "cell_type": "code",
   "execution_count": 366,
   "metadata": {
    "ExecuteTime": {
     "end_time": "2020-04-11T11:21:05.260593Z",
     "start_time": "2020-04-11T11:21:05.253569Z"
    }
   },
   "outputs": [
    {
     "data": {
      "text/plain": [
       "0    21700\n",
       "1     8300\n",
       "Name: label, dtype: int64"
      ]
     },
     "execution_count": 366,
     "metadata": {},
     "output_type": "execute_result"
    }
   ],
   "source": [
    "df['label'].value_counts()"
   ]
  },
  {
   "cell_type": "code",
   "execution_count": 367,
   "metadata": {
    "ExecuteTime": {
     "end_time": "2020-04-11T11:21:05.265591Z",
     "start_time": "2020-04-11T11:21:05.262594Z"
    }
   },
   "outputs": [],
   "source": [
    "cat_cols = ['sex', 'education-num', 'marital-status', 'workclass', 'occupation']\n",
    "num_cols = ['age', 'hours-per-week']\n",
    "y_col = ['label']"
   ]
  },
  {
   "cell_type": "markdown",
   "metadata": {},
   "source": [
    "# Standarizing numerical variables"
   ]
  },
  {
   "cell_type": "code",
   "execution_count": 368,
   "metadata": {
    "ExecuteTime": {
     "end_time": "2020-04-11T11:21:05.270569Z",
     "start_time": "2020-04-11T11:21:05.267570Z"
    }
   },
   "outputs": [],
   "source": [
    "from sklearn.preprocessing import StandardScaler, OneHotEncoder\n",
    "from sklearn.model_selection import train_test_split"
   ]
  },
  {
   "cell_type": "code",
   "execution_count": 369,
   "metadata": {
    "ExecuteTime": {
     "end_time": "2020-04-11T11:21:05.287606Z",
     "start_time": "2020-04-11T11:21:05.272590Z"
    }
   },
   "outputs": [],
   "source": [
    "X_train, X_test, y_train, y_test = train_test_split(\n",
    "    df[cat_cols+num_cols], df[y_col], test_size=.2)"
   ]
  },
  {
   "cell_type": "code",
   "execution_count": 370,
   "metadata": {
    "ExecuteTime": {
     "end_time": "2020-04-11T11:21:05.310569Z",
     "start_time": "2020-04-11T11:21:05.290594Z"
    }
   },
   "outputs": [],
   "source": [
    "scaler = StandardScaler()\n",
    "X_train[num_cols] = scaler.fit_transform(X_train[num_cols])\n",
    "X_test[num_cols] = scaler.transform(X_test[num_cols])"
   ]
  },
  {
   "cell_type": "markdown",
   "metadata": {},
   "source": [
    "# Encoding categorical variables"
   ]
  },
  {
   "cell_type": "code",
   "execution_count": 371,
   "metadata": {
    "ExecuteTime": {
     "end_time": "2020-04-11T11:21:05.314568Z",
     "start_time": "2020-04-11T11:21:05.311570Z"
    },
    "scrolled": true
   },
   "outputs": [],
   "source": [
    "encoder = OneHotEncoder(sparse=False, drop='first')"
   ]
  },
  {
   "cell_type": "code",
   "execution_count": 372,
   "metadata": {
    "ExecuteTime": {
     "end_time": "2020-04-11T11:21:05.345741Z",
     "start_time": "2020-04-11T11:21:05.315568Z"
    }
   },
   "outputs": [],
   "source": [
    "train_encoded = pd.DataFrame(encoder.fit_transform(X_train[cat_cols]), columns=encoder.get_feature_names(cat_cols))\n",
    "X_train = pd.concat([X_train.reset_index(drop=True), train_encoded], axis=1).drop(columns=cat_cols)"
   ]
  },
  {
   "cell_type": "code",
   "execution_count": 376,
   "metadata": {
    "ExecuteTime": {
     "end_time": "2020-04-11T11:21:05.399736Z",
     "start_time": "2020-04-11T11:21:05.387568Z"
    }
   },
   "outputs": [],
   "source": [
    "test_encoded = pd.DataFrame(encoder.transform(X_test[cat_cols]), columns=encoder.get_feature_names(cat_cols))\n",
    "X_test = pd.concat([X_test.reset_index(drop=True), test_encoded], axis=1).drop(columns=cat_cols)"
   ]
  },
  {
   "cell_type": "markdown",
   "metadata": {},
   "source": [
    "# Changing DF to tensors (using GPU)"
   ]
  },
  {
   "cell_type": "code",
   "execution_count": null,
   "metadata": {},
   "outputs": [],
   "source": [
    "X_train_torch = torch.tensor(X_train.values,dtype=torch.float).cuda()\n",
    "X_test_torch = torch.tensor(X_test.values,dtype=torch.float).cuda()\n",
    "\n",
    "y_train_torch = torch.tensor(y_train.values).flatten().cuda()\n",
    "y_test_torch = torch.tensor(y_test.values).flatten().cuda()"
   ]
  },
  {
   "cell_type": "markdown",
   "metadata": {
    "ExecuteTime": {
     "end_time": "2020-04-11T11:21:05.414601Z",
     "start_time": "2020-04-11T11:21:05.401569Z"
    }
   },
   "source": [
    "# Simple neural network"
   ]
  },
  {
   "cell_type": "markdown",
   "metadata": {
    "ExecuteTime": {
     "end_time": "2020-04-11T11:56:59.838343Z",
     "start_time": "2020-04-11T11:56:59.827190Z"
    }
   },
   "source": [
    "This neural network contains 2 hidden layers - both are fully connected and their activation function is ReLU. 1st hidden layer contains 240 neurons and 2nd - 200.  \n",
    "\n",
    "Activation function of output layer is log_softmax, because of nature of the problem (classification)."
   ]
  },
  {
   "cell_type": "code",
   "execution_count": 410,
   "metadata": {
    "ExecuteTime": {
     "end_time": "2020-04-11T11:37:29.455707Z",
     "start_time": "2020-04-11T11:37:29.443673Z"
    }
   },
   "outputs": [],
   "source": [
    "class ClassificationNetwork(nn.Module):\n",
    "    def __init__(self, in_size=36):\n",
    "        super().__init__()\n",
    "        self.fc1 = nn.Linear(in_size, 240)\n",
    "        self.fc2 = nn.Linear(240, 200)\n",
    "        self.fc3 = nn.Linear(200, 2)\n",
    "                \n",
    "    def forward(self, X):\n",
    "        X  = F.relu(self.fc1(X))\n",
    "        X = F.relu(self.fc2(X))\n",
    "        X = self.fc3(X)\n",
    "        return F.log_softmax(X, dim =1)"
   ]
  },
  {
   "cell_type": "markdown",
   "metadata": {},
   "source": [
    "# Training 1st model"
   ]
  },
  {
   "cell_type": "markdown",
   "metadata": {},
   "source": [
    "First model is trained during 2000 epochs. Its loss function is Cross Entropy and optimizer is Adam (gives far better output than SGD)."
   ]
  },
  {
   "cell_type": "code",
   "execution_count": 411,
   "metadata": {
    "ExecuteTime": {
     "end_time": "2020-04-11T11:37:42.826599Z",
     "start_time": "2020-04-11T11:37:42.814579Z"
    }
   },
   "outputs": [],
   "source": [
    "torch.manual_seed(0)\n",
    "model = ClassificationNetwork()\n",
    "model = model.cuda()\n",
    "\n",
    "criterion = nn.CrossEntropyLoss()\n",
    "optimizer = torch.optim.Adam(model.parameters(), lr=.001)"
   ]
  },
  {
   "cell_type": "code",
   "execution_count": 412,
   "metadata": {
    "ExecuteTime": {
     "end_time": "2020-04-11T11:38:43.002508Z",
     "start_time": "2020-04-11T11:37:56.250426Z"
    },
    "scrolled": true
   },
   "outputs": [
    {
     "name": "stdout",
     "output_type": "stream",
     "text": [
      "Epoch 25 Loss: 0.30487075448036194\n",
      "Epoch 50 Loss: 0.25826728343963623\n",
      "Epoch 75 Loss: 0.2461037039756775\n",
      "Epoch 100 Loss: 0.2397603690624237\n",
      "Epoch 125 Loss: 0.2351505160331726\n",
      "Epoch 150 Loss: 0.23131868243217468\n",
      "Epoch 175 Loss: 0.22781911492347717\n",
      "Epoch 200 Loss: 0.22431626915931702\n",
      "Epoch 225 Loss: 0.22066955268383026\n",
      "Epoch 250 Loss: 0.2167430818080902\n",
      "Epoch 275 Loss: 0.2124786525964737\n",
      "Epoch 300 Loss: 0.20809829235076904\n",
      "Epoch 325 Loss: 0.2037687450647354\n",
      "Epoch 350 Loss: 0.1995064914226532\n",
      "Epoch 375 Loss: 0.19582727551460266\n",
      "Epoch 400 Loss: 0.192594975233078\n",
      "Epoch 425 Loss: 0.18912465870380402\n",
      "Epoch 450 Loss: 0.1863681674003601\n",
      "Epoch 475 Loss: 0.1839451938867569\n",
      "Epoch 500 Loss: 0.18105611205101013\n",
      "Epoch 525 Loss: 0.17846405506134033\n",
      "Epoch 550 Loss: 0.17642730474472046\n",
      "Epoch 575 Loss: 0.17459990084171295\n",
      "Epoch 600 Loss: 0.17303717136383057\n",
      "Epoch 625 Loss: 0.17134034633636475\n",
      "Epoch 650 Loss: 0.1696850210428238\n",
      "Epoch 675 Loss: 0.16810090839862823\n",
      "Epoch 700 Loss: 0.16655343770980835\n",
      "Epoch 725 Loss: 0.16510649025440216\n",
      "Epoch 750 Loss: 0.16349148750305176\n",
      "Epoch 775 Loss: 0.16220366954803467\n",
      "Epoch 800 Loss: 0.160658061504364\n",
      "Epoch 825 Loss: 0.15932880342006683\n",
      "Epoch 850 Loss: 0.15805372595787048\n",
      "Epoch 875 Loss: 0.15705056488513947\n",
      "Epoch 900 Loss: 0.15620209276676178\n",
      "Epoch 925 Loss: 0.15597060322761536\n",
      "Epoch 950 Loss: 0.1555534452199936\n",
      "Epoch 975 Loss: 0.15443773567676544\n",
      "Epoch 1000 Loss: 0.1527559906244278\n",
      "Epoch 1025 Loss: 0.1514008492231369\n",
      "Epoch 1050 Loss: 0.1509595364332199\n",
      "Epoch 1075 Loss: 0.15083539485931396\n",
      "Epoch 1100 Loss: 0.1506011188030243\n",
      "Epoch 1125 Loss: 0.14897044003009796\n",
      "Epoch 1150 Loss: 0.1475297510623932\n",
      "Epoch 1175 Loss: 0.14703084528446198\n",
      "Epoch 1200 Loss: 0.14742793142795563\n",
      "Epoch 1225 Loss: 0.1466297209262848\n",
      "Epoch 1250 Loss: 0.14480987191200256\n",
      "Epoch 1275 Loss: 0.14414742588996887\n",
      "Epoch 1300 Loss: 0.14530892670154572\n",
      "Epoch 1325 Loss: 0.14388222992420197\n",
      "Epoch 1350 Loss: 0.14233265817165375\n",
      "Epoch 1375 Loss: 0.142454594373703\n",
      "Epoch 1400 Loss: 0.14298205077648163\n",
      "Epoch 1425 Loss: 0.14146244525909424\n",
      "Epoch 1450 Loss: 0.13997332751750946\n",
      "Epoch 1475 Loss: 0.14077763259410858\n",
      "Epoch 1500 Loss: 0.14080025255680084\n",
      "Epoch 1525 Loss: 0.13917092978954315\n",
      "Epoch 1550 Loss: 0.1379997730255127\n",
      "Epoch 1575 Loss: 0.13951416313648224\n",
      "Epoch 1600 Loss: 0.13772840797901154\n",
      "Epoch 1625 Loss: 0.13690173625946045\n",
      "Epoch 1650 Loss: 0.1382732391357422\n",
      "Epoch 1675 Loss: 0.13670700788497925\n",
      "Epoch 1700 Loss: 0.1353311836719513\n",
      "Epoch 1725 Loss: 0.13683247566223145\n",
      "Epoch 1750 Loss: 0.1358053833246231\n",
      "Epoch 1775 Loss: 0.13411706686019897\n",
      "Epoch 1800 Loss: 0.1350589543581009\n",
      "Epoch 1825 Loss: 0.13519947230815887\n",
      "Epoch 1850 Loss: 0.13295793533325195\n",
      "Epoch 1875 Loss: 0.1340145617723465\n",
      "Epoch 1900 Loss: 0.13360866904258728\n",
      "Epoch 1925 Loss: 0.13188476860523224\n",
      "Epoch 1950 Loss: 0.13292856514453888\n",
      "Epoch 1975 Loss: 0.13289234042167664\n",
      "Epoch 2000 Loss: 0.1308491975069046\n",
      "Duration: 0.779031244913737\n"
     ]
    }
   ],
   "source": [
    "import time\n",
    "start_time = time.time()\n",
    "\n",
    "epochs = 2000\n",
    "train_loss = []\n",
    "test_loss = []\n",
    "\n",
    "for i in range(epochs):\n",
    "    \n",
    "    i += 1\n",
    "    y_pred = model(X_train_torch)\n",
    "    loss = criterion(y_pred, y_train_torch)\n",
    "    train_loss.append(loss)\n",
    "    optimizer.zero_grad()\n",
    "    loss.backward()\n",
    "    optimizer.step()\n",
    "    \n",
    "    if i%25==0:\n",
    "        print(f'Epoch {i} Loss: {loss.item()}')\n",
    "        \n",
    "    with torch.no_grad():\n",
    "        y_val = model(X_test_torch)\n",
    "        loss = criterion(y_val, y_test_torch)\n",
    "        test_loss.append(loss)\n",
    "            \n",
    "total_time = time.time() - start_time\n",
    "print(f'Duration: {total_time/60}')"
   ]
  },
  {
   "cell_type": "code",
   "execution_count": 434,
   "metadata": {
    "ExecuteTime": {
     "end_time": "2020-04-11T11:59:54.453780Z",
     "start_time": "2020-04-11T11:59:54.312561Z"
    },
    "scrolled": true
   },
   "outputs": [
    {
     "data": {
      "text/plain": [
       "<matplotlib.legend.Legend at 0x28619c88548>"
      ]
     },
     "execution_count": 434,
     "metadata": {},
     "output_type": "execute_result"
    },
    {
     "data": {
      "image/png": "[encoded data removed]",
      "text/plain": [
       "<Figure size 864x288 with 1 Axes>"
      ]
     },
     "metadata": {
      "needs_background": "light"
     },
     "output_type": "display_data"
    }
   ],
   "source": [
    "plt.figure(figsize = (12,4))\n",
    "plt.plot(train_loss, label = 'train loss')\n",
    "plt.plot(test_loss, label = 'test loss')\n",
    "plt.legend()"
   ]
  },
  {
   "cell_type": "markdown",
   "metadata": {},
   "source": [
    "Analyzing loss values, we can see that when train loss constantly decreases, test loss increases after around 100 epochs. That is why I trained 2nd model."
   ]
  },
  {
   "cell_type": "code",
   "execution_count": 414,
   "metadata": {
    "ExecuteTime": {
     "end_time": "2020-04-11T11:44:23.252695Z",
     "start_time": "2020-04-11T11:44:20.860180Z"
    }
   },
   "outputs": [
    {
     "name": "stdout",
     "output_type": "stream",
     "text": [
      "Epoch 25 Loss: 0.30487075448036194\n",
      "Epoch 50 Loss: 0.25826728343963623\n",
      "Epoch 75 Loss: 0.2461037039756775\n",
      "Epoch 100 Loss: 0.2397603690624237\n",
      "Duration: 0.03943494160970052\n"
     ]
    }
   ],
   "source": [
    "torch.manual_seed(0)\n",
    "model = ClassificationNetwork()\n",
    "model = model.cuda()\n",
    "\n",
    "criterion = nn.CrossEntropyLoss()\n",
    "optimizer = torch.optim.Adam(model.parameters(), lr=.001)\n",
    "import time\n",
    "start_time = time.time()\n",
    "\n",
    "epochs = 100\n",
    "train_loss = []\n",
    "test_loss = []\n",
    "\n",
    "for i in range(epochs):\n",
    "    \n",
    "    i += 1\n",
    "    y_pred = model(X_train_torch)\n",
    "    loss = criterion(y_pred, y_train_torch)\n",
    "    train_loss.append(loss)\n",
    "    optimizer.zero_grad()\n",
    "    loss.backward()\n",
    "    optimizer.step()\n",
    "    \n",
    "    if i%25==0:\n",
    "        print(f'Epoch {i} Loss: {loss.item()}')\n",
    "        \n",
    "    with torch.no_grad():\n",
    "        y_val = model(X_test_torch)\n",
    "        loss = criterion(y_val, y_test_torch)\n",
    "        test_loss.append(loss)\n",
    "            \n",
    "total_time = time.time() - start_time\n",
    "print(f'Duration: {total_time/60}')"
   ]
  },
  {
   "cell_type": "code",
   "execution_count": 435,
   "metadata": {
    "ExecuteTime": {
     "end_time": "2020-04-11T12:01:25.333489Z",
     "start_time": "2020-04-11T12:01:25.193114Z"
    }
   },
   "outputs": [
    {
     "data": {
      "text/plain": [
       "<matplotlib.legend.Legend at 0x28619c88508>"
      ]
     },
     "execution_count": 435,
     "metadata": {},
     "output_type": "execute_result"
    },
    {
     "data": {
      "image/png": "[encoded data removed]",
      "text/plain": [
       "<Figure size 864x288 with 1 Axes>"
      ]
     },
     "metadata": {
      "needs_background": "light"
     },
     "output_type": "display_data"
    }
   ],
   "source": [
    "plt.figure(figsize = (12,4))\n",
    "plt.plot(train_loss, label='train loss')\n",
    "plt.plot(test_loss, label='test loss')\n",
    "plt.legend()"
   ]
  },
  {
   "cell_type": "markdown",
   "metadata": {},
   "source": [
    "# Evaluation on test data"
   ]
  },
  {
   "cell_type": "code",
   "execution_count": 427,
   "metadata": {
    "ExecuteTime": {
     "end_time": "2020-04-11T11:49:47.950944Z",
     "start_time": "2020-04-11T11:49:47.941933Z"
    }
   },
   "outputs": [],
   "source": [
    "from sklearn.metrics import confusion_matrix, accuracy_score"
   ]
  },
  {
   "cell_type": "code",
   "execution_count": 418,
   "metadata": {
    "ExecuteTime": {
     "end_time": "2020-04-11T11:45:44.094609Z",
     "start_time": "2020-04-11T11:45:44.066890Z"
    }
   },
   "outputs": [],
   "source": [
    "with torch.no_grad():\n",
    "    y_pred = model(X_test_torch)"
   ]
  },
  {
   "cell_type": "code",
   "execution_count": 426,
   "metadata": {
    "ExecuteTime": {
     "end_time": "2020-04-11T11:49:34.459419Z",
     "start_time": "2020-04-11T11:49:34.433789Z"
    },
    "scrolled": false
   },
   "outputs": [
    {
     "data": {
      "text/plain": [
       "array([[3822,  481],\n",
       "       [ 213, 1484]], dtype=int64)"
      ]
     },
     "execution_count": 426,
     "metadata": {},
     "output_type": "execute_result"
    }
   ],
   "source": [
    "confusion_matrix(y_test, np.argmax(y_pred.cpu(), axis=1))"
   ]
  },
  {
   "cell_type": "code",
   "execution_count": 431,
   "metadata": {
    "ExecuteTime": {
     "end_time": "2020-04-11T11:51:18.574411Z",
     "start_time": "2020-04-11T11:51:18.568400Z"
    }
   },
   "outputs": [
    {
     "name": "stdout",
     "output_type": "stream",
     "text": [
      "Test accuracy: 88.43%\n"
     ]
    }
   ],
   "source": [
    "print(f'Test accuracy: {100*accuracy_score(y_test, np.argmax(y_pred.cpu(), axis=1)):.2f}%')"
   ]
  },
  {
   "cell_type": "markdown",
   "metadata": {},
   "source": [
    "Our test accuracy is almost 90% which is very good score. Of course there is a lot of things to improve like:\n",
    "* using embeddings instead of one hot encoding,\n",
    "* adding more layers or changing no of neurons.\n"
   ]
  }
 ],
 "metadata": {
  "kernelspec": {
   "display_name": "Python 3",
   "language": "python",
   "name": "python3"
  },
  "language_info": {
   "codemirror_mode": {
    "name": "ipython",
    "version": 3
   },
   "file_extension": ".py",
   "mimetype": "text/x-python",
   "name": "python",
   "nbconvert_exporter": "python",
   "pygments_lexer": "ipython3",
   "version": "3.7.7"
  },
  "toc": {
   "base_numbering": 1,
   "nav_menu": {},
   "number_sections": true,
   "sideBar": true,
   "skip_h1_title": false,
   "title_cell": "Table of Contents",
   "title_sidebar": "Contents",
   "toc_cell": false,
   "toc_position": {
    "height": "calc(100% - 180px)",
    "left": "10px",
    "top": "150px",
    "width": "384px"
   },
   "toc_section_display": true,
   "toc_window_display": true
  },
  "varInspector": {
   "cols": {
    "lenName": 16,
    "lenType": 16,
    "lenVar": 40
   },
   "kernels_config": {
    "python": {
     "delete_cmd_postfix": "",
     "delete_cmd_prefix": "del ",
     "library": "var_list.py",
     "varRefreshCmd": "print(var_dic_list())"
    },
    "r": {
     "delete_cmd_postfix": ") ",
     "delete_cmd_prefix": "rm(",
     "library": "var_list.r",
     "varRefreshCmd": "cat(var_dic_list()) "
    }
   },
   "types_to_exclude": [
    "module",
    "function",
    "builtin_function_or_method",
    "instance",
    "_Feature"
   ],
   "window_display": false
  }
 },
 "nbformat": 4,
 "nbformat_minor": 4
}
