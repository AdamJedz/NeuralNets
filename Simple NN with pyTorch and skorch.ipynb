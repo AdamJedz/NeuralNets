{
 "cells": [
  {
   "cell_type": "markdown",
   "metadata": {},
   "source": [
    "# Background"
   ]
  },
  {
   "cell_type": "markdown",
   "metadata": {},
   "source": [
    "Simple NN using pyTorch:\n",
    "    * Classification problem (binary),\n",
    "    * Based on features like: age, sex, education, marital status, workclass etc. needs to predict whether persons'income  \n",
    "    is higher or lower than 50k."
   ]
  },
  {
   "cell_type": "code",
   "execution_count": 19,
   "metadata": {
    "ExecuteTime": {
     "end_time": "2020-04-11T15:17:51.103914Z",
     "start_time": "2020-04-11T15:17:51.097880Z"
    }
   },
   "outputs": [],
   "source": [
    "import torch\n",
    "import torch.nn as nn\n",
    "import torch.nn.functional as F\n",
    "import skorch\n",
    "\n",
    "import numpy as np\n",
    "import pandas as pd\n",
    "\n",
    "import matplotlib.pyplot as plt\n",
    "%matplotlib inline"
   ]
  },
  {
   "cell_type": "markdown",
   "metadata": {},
   "source": [
    "# DF import"
   ]
  },
  {
   "cell_type": "code",
   "execution_count": 20,
   "metadata": {
    "ExecuteTime": {
     "end_time": "2020-04-11T15:17:51.146885Z",
     "start_time": "2020-04-11T15:17:51.105878Z"
    }
   },
   "outputs": [],
   "source": [
    "df = pd.read_csv('income.csv')"
   ]
  },
  {
   "cell_type": "code",
   "execution_count": 21,
   "metadata": {
    "ExecuteTime": {
     "end_time": "2020-04-11T15:17:51.158879Z",
     "start_time": "2020-04-11T15:17:51.148877Z"
    }
   },
   "outputs": [
    {
     "data": {
      "text/html": [
       "<div>\n",
       "<style scoped>\n",
       "    .dataframe tbody tr th:only-of-type {\n",
       "        vertical-align: middle;\n",
       "    }\n",
       "\n",
       "    .dataframe tbody tr th {\n",
       "        vertical-align: top;\n",
       "    }\n",
       "\n",
       "    .dataframe thead th {\n",
       "        text-align: right;\n",
       "    }\n",
       "</style>\n",
       "<table border=\"1\" class=\"dataframe\">\n",
       "  <thead>\n",
       "    <tr style=\"text-align: right;\">\n",
       "      <th></th>\n",
       "      <th>age</th>\n",
       "      <th>sex</th>\n",
       "      <th>education</th>\n",
       "      <th>education-num</th>\n",
       "      <th>marital-status</th>\n",
       "      <th>workclass</th>\n",
       "      <th>occupation</th>\n",
       "      <th>hours-per-week</th>\n",
       "      <th>income</th>\n",
       "      <th>label</th>\n",
       "    </tr>\n",
       "  </thead>\n",
       "  <tbody>\n",
       "    <tr>\n",
       "      <th>0</th>\n",
       "      <td>27</td>\n",
       "      <td>Male</td>\n",
       "      <td>HS-grad</td>\n",
       "      <td>9</td>\n",
       "      <td>Never-married</td>\n",
       "      <td>Private</td>\n",
       "      <td>Craft-repair</td>\n",
       "      <td>40</td>\n",
       "      <td>&lt;=50K</td>\n",
       "      <td>0</td>\n",
       "    </tr>\n",
       "    <tr>\n",
       "      <th>1</th>\n",
       "      <td>47</td>\n",
       "      <td>Male</td>\n",
       "      <td>Masters</td>\n",
       "      <td>14</td>\n",
       "      <td>Married</td>\n",
       "      <td>Local-gov</td>\n",
       "      <td>Exec-managerial</td>\n",
       "      <td>50</td>\n",
       "      <td>&gt;50K</td>\n",
       "      <td>1</td>\n",
       "    </tr>\n",
       "    <tr>\n",
       "      <th>2</th>\n",
       "      <td>59</td>\n",
       "      <td>Male</td>\n",
       "      <td>HS-grad</td>\n",
       "      <td>9</td>\n",
       "      <td>Divorced</td>\n",
       "      <td>Self-emp</td>\n",
       "      <td>Prof-specialty</td>\n",
       "      <td>20</td>\n",
       "      <td>&lt;=50K</td>\n",
       "      <td>0</td>\n",
       "    </tr>\n",
       "    <tr>\n",
       "      <th>3</th>\n",
       "      <td>38</td>\n",
       "      <td>Female</td>\n",
       "      <td>Prof-school</td>\n",
       "      <td>15</td>\n",
       "      <td>Never-married</td>\n",
       "      <td>Federal-gov</td>\n",
       "      <td>Prof-specialty</td>\n",
       "      <td>57</td>\n",
       "      <td>&gt;50K</td>\n",
       "      <td>1</td>\n",
       "    </tr>\n",
       "    <tr>\n",
       "      <th>4</th>\n",
       "      <td>64</td>\n",
       "      <td>Female</td>\n",
       "      <td>11th</td>\n",
       "      <td>7</td>\n",
       "      <td>Widowed</td>\n",
       "      <td>Private</td>\n",
       "      <td>Farming-fishing</td>\n",
       "      <td>40</td>\n",
       "      <td>&lt;=50K</td>\n",
       "      <td>0</td>\n",
       "    </tr>\n",
       "  </tbody>\n",
       "</table>\n",
       "</div>"
      ],
      "text/plain": [
       "   age     sex    education  education-num marital-status    workclass  \\\n",
       "0   27    Male      HS-grad              9  Never-married      Private   \n",
       "1   47    Male      Masters             14        Married    Local-gov   \n",
       "2   59    Male      HS-grad              9       Divorced     Self-emp   \n",
       "3   38  Female  Prof-school             15  Never-married  Federal-gov   \n",
       "4   64  Female         11th              7        Widowed      Private   \n",
       "\n",
       "        occupation  hours-per-week income  label  \n",
       "0     Craft-repair              40  <=50K      0  \n",
       "1  Exec-managerial              50   >50K      1  \n",
       "2   Prof-specialty              20  <=50K      0  \n",
       "3   Prof-specialty              57   >50K      1  \n",
       "4  Farming-fishing              40  <=50K      0  "
      ]
     },
     "execution_count": 21,
     "metadata": {},
     "output_type": "execute_result"
    }
   ],
   "source": [
    "df.head()"
   ]
  },
  {
   "cell_type": "code",
   "execution_count": 22,
   "metadata": {
    "ExecuteTime": {
     "end_time": "2020-04-11T15:17:51.167914Z",
     "start_time": "2020-04-11T15:17:51.160878Z"
    }
   },
   "outputs": [
    {
     "data": {
      "text/plain": [
       "0    21700\n",
       "1     8300\n",
       "Name: label, dtype: int64"
      ]
     },
     "execution_count": 22,
     "metadata": {},
     "output_type": "execute_result"
    }
   ],
   "source": [
    "df['label'].value_counts()"
   ]
  },
  {
   "cell_type": "code",
   "execution_count": 23,
   "metadata": {
    "ExecuteTime": {
     "end_time": "2020-04-11T15:17:51.173891Z",
     "start_time": "2020-04-11T15:17:51.169879Z"
    }
   },
   "outputs": [],
   "source": [
    "cat_cols = ['sex', 'education-num', 'marital-status', 'workclass', 'occupation']\n",
    "num_cols = ['age', 'hours-per-week']\n",
    "y_col = ['label']"
   ]
  },
  {
   "cell_type": "markdown",
   "metadata": {},
   "source": [
    "# Standarizing numerical variables"
   ]
  },
  {
   "cell_type": "code",
   "execution_count": 24,
   "metadata": {
    "ExecuteTime": {
     "end_time": "2020-04-11T15:17:51.177880Z",
     "start_time": "2020-04-11T15:17:51.174880Z"
    }
   },
   "outputs": [],
   "source": [
    "from sklearn.preprocessing import StandardScaler, OneHotEncoder\n",
    "from sklearn.model_selection import train_test_split"
   ]
  },
  {
   "cell_type": "code",
   "execution_count": 25,
   "metadata": {
    "ExecuteTime": {
     "end_time": "2020-04-11T15:17:51.194914Z",
     "start_time": "2020-04-11T15:17:51.179878Z"
    }
   },
   "outputs": [],
   "source": [
    "X_train, X_test, y_train, y_test = train_test_split(\n",
    "    df[cat_cols+num_cols], df[y_col], test_size=.2)"
   ]
  },
  {
   "cell_type": "code",
   "execution_count": 26,
   "metadata": {
    "ExecuteTime": {
     "end_time": "2020-04-11T15:17:51.214879Z",
     "start_time": "2020-04-11T15:17:51.196879Z"
    }
   },
   "outputs": [],
   "source": [
    "scaler = StandardScaler()\n",
    "X_train[num_cols] = scaler.fit_transform(X_train[num_cols])\n",
    "X_test[num_cols] = scaler.transform(X_test[num_cols])"
   ]
  },
  {
   "cell_type": "markdown",
   "metadata": {},
   "source": [
    "# Encoding categorical variables"
   ]
  },
  {
   "cell_type": "code",
   "execution_count": 27,
   "metadata": {
    "ExecuteTime": {
     "end_time": "2020-04-11T15:17:51.218880Z",
     "start_time": "2020-04-11T15:17:51.215876Z"
    },
    "scrolled": true
   },
   "outputs": [],
   "source": [
    "encoder = OneHotEncoder(sparse=False, drop='first')"
   ]
  },
  {
   "cell_type": "code",
   "execution_count": 28,
   "metadata": {
    "ExecuteTime": {
     "end_time": "2020-04-11T15:17:51.275051Z",
     "start_time": "2020-04-11T15:17:51.219878Z"
    }
   },
   "outputs": [],
   "source": [
    "train_encoded = pd.DataFrame(encoder.fit_transform(X_train[cat_cols]), columns=encoder.get_feature_names(cat_cols))\n",
    "X_train = pd.concat([X_train.reset_index(drop=True), train_encoded], axis=1).drop(columns=cat_cols)"
   ]
  },
  {
   "cell_type": "code",
   "execution_count": 29,
   "metadata": {
    "ExecuteTime": {
     "end_time": "2020-04-11T15:17:51.295055Z",
     "start_time": "2020-04-11T15:17:51.275879Z"
    }
   },
   "outputs": [],
   "source": [
    "test_encoded = pd.DataFrame(encoder.transform(X_test[cat_cols]), columns=encoder.get_feature_names(cat_cols))\n",
    "X_test = pd.concat([X_test.reset_index(drop=True), test_encoded], axis=1).drop(columns=cat_cols)"
   ]
  },
  {
   "cell_type": "markdown",
   "metadata": {},
   "source": [
    "# Changing DF to tensors (using GPU)"
   ]
  },
  {
   "cell_type": "code",
   "execution_count": 31,
   "metadata": {
    "ExecuteTime": {
     "end_time": "2020-04-11T15:17:59.015879Z",
     "start_time": "2020-04-11T15:17:58.990247Z"
    }
   },
   "outputs": [],
   "source": [
    "X_train_torch = torch.tensor(X_train.values,dtype=torch.float)\n",
    "X_test_torch = torch.tensor(X_test.values,dtype=torch.float)\n",
    "\n",
    "y_train_torch = torch.tensor(y_train.values).flatten()\n",
    "y_test_torch = torch.tensor(y_test.values).flatten()"
   ]
  },
  {
   "cell_type": "markdown",
   "metadata": {
    "ExecuteTime": {
     "end_time": "2020-04-11T11:21:05.414601Z",
     "start_time": "2020-04-11T11:21:05.401569Z"
    }
   },
   "source": [
    "# Simple neural network"
   ]
  },
  {
   "cell_type": "markdown",
   "metadata": {
    "ExecuteTime": {
     "end_time": "2020-04-11T11:56:59.838343Z",
     "start_time": "2020-04-11T11:56:59.827190Z"
    }
   },
   "source": [
    "This neural network contains 2 hidden layers - both are fully connected and their activation function is ReLU. 1st hidden layer contains 240 neurons and 2nd - 200.  \n",
    "\n",
    "Activation function of output layer is log_softmax, because of nature of the problem (classification)."
   ]
  },
  {
   "cell_type": "code",
   "execution_count": 32,
   "metadata": {
    "ExecuteTime": {
     "end_time": "2020-04-11T15:18:00.249747Z",
     "start_time": "2020-04-11T15:18:00.239630Z"
    }
   },
   "outputs": [],
   "source": [
    "class ClassificationNetwork(nn.Module):\n",
    "    def __init__(self, in_size=36):\n",
    "        super().__init__()\n",
    "        self.fc1 = nn.Linear(in_size, 240)\n",
    "        self.fc2 = nn.Linear(240, 200)\n",
    "        self.fc3 = nn.Linear(200, 2)\n",
    "                \n",
    "    def forward(self, X):\n",
    "        X  = F.relu(self.fc1(X))\n",
    "        X = F.relu(self.fc2(X))\n",
    "        X = self.fc3(X)\n",
    "        return F.log_softmax(X, dim =1)"
   ]
  },
  {
   "cell_type": "markdown",
   "metadata": {},
   "source": [
    "# Training 1st model"
   ]
  },
  {
   "cell_type": "markdown",
   "metadata": {},
   "source": [
    "First model is trained during 2000 epochs. Its loss function is Cross Entropy and optimizer is Adam (gives far better output than SGD)."
   ]
  },
  {
   "cell_type": "code",
   "execution_count": 56,
   "metadata": {
    "ExecuteTime": {
     "end_time": "2020-04-11T15:26:58.769800Z",
     "start_time": "2020-04-11T15:26:58.766833Z"
    }
   },
   "outputs": [],
   "source": [
    "checkpoint = skorch.callbacks.Checkpoint()\n",
    "early_stopping = skorch.callbacks.EarlyStopping(patience=50)"
   ]
  },
  {
   "cell_type": "code",
   "execution_count": 58,
   "metadata": {
    "ExecuteTime": {
     "end_time": "2020-04-11T15:27:27.821211Z",
     "start_time": "2020-04-11T15:27:27.809935Z"
    }
   },
   "outputs": [],
   "source": [
    "net = skorch.NeuralNetClassifier(\n",
    "module=ClassificationNetwork,\n",
    "criterion=nn.CrossEntropyLoss,\n",
    "optimizer=torch.optim.Adam,\n",
    "lr=.001,\n",
    "device='cuda',\n",
    "callbacks=[checkpoint,\n",
    "          early_stopping],\n",
    "max_epochs = 150)"
   ]
  },
  {
   "cell_type": "code",
   "execution_count": 51,
   "metadata": {
    "ExecuteTime": {
     "end_time": "2020-04-11T15:24:13.381785Z",
     "start_time": "2020-04-11T15:24:13.373136Z"
    }
   },
   "outputs": [],
   "source": [
    "from sklearn.model_selection import cross_val_score"
   ]
  },
  {
   "cell_type": "code",
   "execution_count": 59,
   "metadata": {
    "ExecuteTime": {
     "end_time": "2020-04-11T15:28:23.488231Z",
     "start_time": "2020-04-11T15:27:29.955506Z"
    }
   },
   "outputs": [
    {
     "name": "stdout",
     "output_type": "stream",
     "text": [
      "  epoch    train_loss    valid_acc    valid_loss    cp     dur\n",
      "-------  ------------  -----------  ------------  ----  ------\n",
      "      1        \u001b[36m0.3011\u001b[0m       \u001b[32m0.8812\u001b[0m        \u001b[35m0.2618\u001b[0m     +  0.9777\n",
      "      2        \u001b[36m0.2469\u001b[0m       \u001b[32m0.8827\u001b[0m        \u001b[35m0.2583\u001b[0m     +  0.8612\n",
      "      3        \u001b[36m0.2416\u001b[0m       0.8817        \u001b[35m0.2574\u001b[0m     +  0.9116\n",
      "      4        \u001b[36m0.2381\u001b[0m       0.8815        \u001b[35m0.2574\u001b[0m     +  0.8713\n",
      "      5        \u001b[36m0.2353\u001b[0m       0.8823        0.2577        0.8926\n",
      "      6        \u001b[36m0.2329\u001b[0m       0.8810        0.2584        0.8560\n",
      "      7        \u001b[36m0.2310\u001b[0m       0.8808        0.2597        0.8769\n",
      "      8        \u001b[36m0.2291\u001b[0m       0.8804        0.2612        0.8784\n",
      "      9        \u001b[36m0.2273\u001b[0m       0.8802        0.2622        0.8894\n",
      "     10        \u001b[36m0.2257\u001b[0m       0.8802        0.2636        0.9989\n",
      "     11        \u001b[36m0.2239\u001b[0m       0.8804        0.2654        0.8626\n",
      "     12        \u001b[36m0.2224\u001b[0m       0.8806        0.2670        0.8681\n",
      "     13        \u001b[36m0.2210\u001b[0m       0.8800        0.2687        1.0134\n",
      "     14        \u001b[36m0.2196\u001b[0m       0.8802        0.2705        0.9829\n",
      "     15        \u001b[36m0.2182\u001b[0m       0.8798        0.2723        0.8827\n",
      "     16        \u001b[36m0.2167\u001b[0m       0.8783        0.2742        0.8708\n",
      "     17        \u001b[36m0.2152\u001b[0m       0.8788        0.2760        0.9843\n",
      "     18        \u001b[36m0.2136\u001b[0m       0.8775        0.2781        0.9844\n",
      "     19        \u001b[36m0.2122\u001b[0m       0.8777        0.2804        0.9468\n",
      "     20        \u001b[36m0.2107\u001b[0m       0.8773        0.2827        1.0138\n",
      "     21        \u001b[36m0.2092\u001b[0m       0.8783        0.2852        0.9330\n",
      "     22        \u001b[36m0.2078\u001b[0m       0.8785        0.2873        1.0076\n",
      "     23        \u001b[36m0.2064\u001b[0m       0.8769        0.2883        0.9558\n",
      "     24        \u001b[36m0.2049\u001b[0m       0.8760        0.2900        0.8565\n",
      "     25        \u001b[36m0.2034\u001b[0m       0.8756        0.2919        0.8869\n",
      "     26        \u001b[36m0.2021\u001b[0m       0.8752        0.2945        1.0071\n",
      "     27        \u001b[36m0.2007\u001b[0m       0.8752        0.2973        0.8683\n",
      "     28        \u001b[36m0.1995\u001b[0m       0.8742        0.3001        1.0141\n",
      "     29        \u001b[36m0.1981\u001b[0m       0.8742        0.3035        0.8716\n",
      "     30        \u001b[36m0.1967\u001b[0m       0.8735        0.3066        0.8981\n",
      "     31        \u001b[36m0.1953\u001b[0m       0.8725        0.3100        0.8817\n",
      "     32        \u001b[36m0.1940\u001b[0m       0.8723        0.3140        0.9253\n",
      "     33        \u001b[36m0.1927\u001b[0m       0.8723        0.3176        0.9242\n",
      "     34        \u001b[36m0.1914\u001b[0m       0.8727        0.3211        0.8969\n",
      "     35        \u001b[36m0.1903\u001b[0m       0.8715        0.3246        0.9690\n",
      "     36        \u001b[36m0.1890\u001b[0m       0.8729        0.3278        0.8973\n",
      "     37        \u001b[36m0.1877\u001b[0m       0.8710        0.3317        0.9505\n",
      "     38        \u001b[36m0.1865\u001b[0m       0.8727        0.3364        0.9868\n",
      "     39        \u001b[36m0.1856\u001b[0m       0.8715        0.3383        0.9620\n",
      "     40        \u001b[36m0.1844\u001b[0m       0.8715        0.3428        1.0551\n",
      "     41        \u001b[36m0.1833\u001b[0m       0.8715        0.3458        0.9033\n",
      "     42        \u001b[36m0.1823\u001b[0m       0.8698        0.3502        1.0432\n",
      "     43        \u001b[36m0.1813\u001b[0m       0.8698        0.3544        0.8838\n",
      "     44        \u001b[36m0.1803\u001b[0m       0.8696        0.3572        0.9309\n",
      "     45        \u001b[36m0.1793\u001b[0m       0.8698        0.3600        0.9545\n",
      "     46        \u001b[36m0.1782\u001b[0m       0.8702        0.3649        0.9277\n",
      "     47        \u001b[36m0.1773\u001b[0m       0.8681        0.3685        0.9317\n",
      "     48        \u001b[36m0.1766\u001b[0m       0.8685        0.3711        0.9221\n",
      "     49        \u001b[36m0.1756\u001b[0m       0.8685        0.3732        1.0765\n",
      "     50        \u001b[36m0.1747\u001b[0m       0.8694        0.3763        0.9023\n",
      "     51        \u001b[36m0.1740\u001b[0m       0.8688        0.3800        0.8870\n",
      "     52        \u001b[36m0.1731\u001b[0m       0.8690        0.3833        0.8876\n",
      "Stopping since valid_loss has not improved in the last 50 epochs.\n"
     ]
    },
    {
     "data": {
      "text/plain": [
       "<class 'skorch.classifier.NeuralNetClassifier'>[initialized](\n",
       "  module_=ClassificationNetwork(\n",
       "    (fc1): Linear(in_features=36, out_features=240, bias=True)\n",
       "    (fc2): Linear(in_features=240, out_features=200, bias=True)\n",
       "    (fc3): Linear(in_features=200, out_features=2, bias=True)\n",
       "  ),\n",
       ")"
      ]
     },
     "execution_count": 59,
     "metadata": {},
     "output_type": "execute_result"
    }
   ],
   "source": [
    "net.fit(X_train_torch, y_train_torch)"
   ]
  },
  {
   "cell_type": "code",
   "execution_count": 64,
   "metadata": {
    "ExecuteTime": {
     "end_time": "2020-04-11T15:30:09.079869Z",
     "start_time": "2020-04-11T15:30:08.960600Z"
    },
    "scrolled": false
   },
   "outputs": [],
   "source": [
    "y_pred = net.predict(X_test_torch)"
   ]
  },
  {
   "cell_type": "markdown",
   "metadata": {},
   "source": [
    "# Evaluation on test data"
   ]
  },
  {
   "cell_type": "code",
   "execution_count": 65,
   "metadata": {
    "ExecuteTime": {
     "end_time": "2020-04-11T15:30:21.093793Z",
     "start_time": "2020-04-11T15:30:21.079706Z"
    }
   },
   "outputs": [],
   "source": [
    "from sklearn.metrics import confusion_matrix, accuracy_score"
   ]
  },
  {
   "cell_type": "code",
   "execution_count": 68,
   "metadata": {
    "ExecuteTime": {
     "end_time": "2020-04-11T15:30:47.636788Z",
     "start_time": "2020-04-11T15:30:47.622482Z"
    }
   },
   "outputs": [
    {
     "data": {
      "text/plain": [
       "array([0, 0, 0, ..., 0, 0, 1], dtype=int64)"
      ]
     },
     "execution_count": 68,
     "metadata": {},
     "output_type": "execute_result"
    }
   ],
   "source": [
    "y_pred"
   ]
  },
  {
   "cell_type": "code",
   "execution_count": 70,
   "metadata": {
    "ExecuteTime": {
     "end_time": "2020-04-11T15:31:14.368551Z",
     "start_time": "2020-04-11T15:31:14.360136Z"
    },
    "scrolled": false
   },
   "outputs": [
    {
     "data": {
      "text/plain": [
       "array([[3783,  495],\n",
       "       [ 268, 1454]], dtype=int64)"
      ]
     },
     "execution_count": 70,
     "metadata": {},
     "output_type": "execute_result"
    }
   ],
   "source": [
    "confusion_matrix(y_test, y_pred)"
   ]
  },
  {
   "cell_type": "code",
   "execution_count": 72,
   "metadata": {
    "ExecuteTime": {
     "end_time": "2020-04-11T15:31:40.247714Z",
     "start_time": "2020-04-11T15:31:40.237683Z"
    }
   },
   "outputs": [
    {
     "name": "stdout",
     "output_type": "stream",
     "text": [
      "Test accuracy: 87.28%\n"
     ]
    }
   ],
   "source": [
    "print(f'Test accuracy: {100*accuracy_score(y_test, y_pred):.2f}%')"
   ]
  },
  {
   "cell_type": "markdown",
   "metadata": {},
   "source": [
    "Our test accuracy is almost 90% which is very good score. Of course there is a lot of things to improve like:\n",
    "* using embeddings instead of one hot encoding,\n",
    "* adding more layers or changing no of neurons.\n"
   ]
  },
  {
   "cell_type": "markdown",
   "metadata": {},
   "source": [
    "# Model saved on checkpoint"
   ]
  },
  {
   "cell_type": "code",
   "execution_count": 76,
   "metadata": {
    "ExecuteTime": {
     "end_time": "2020-04-11T15:35:37.314213Z",
     "start_time": "2020-04-11T15:35:37.295483Z"
    }
   },
   "outputs": [],
   "source": [
    "saved_net = skorch.NeuralNetClassifier(\n",
    "    module=ClassificationNetwork,\n",
    "    criterion=nn.CrossEntropyLoss)\n",
    "saved_net.initialize()\n",
    "saved_net.load_params(f_params = 'params.pt', f_optimizer='optimizer.pt', f_history='history.json')"
   ]
  },
  {
   "cell_type": "code",
   "execution_count": 77,
   "metadata": {
    "ExecuteTime": {
     "end_time": "2020-04-11T15:35:49.304143Z",
     "start_time": "2020-04-11T15:35:49.174522Z"
    }
   },
   "outputs": [],
   "source": [
    "y_pred = saved_net.predict(X_test_torch)"
   ]
  },
  {
   "cell_type": "code",
   "execution_count": 78,
   "metadata": {
    "ExecuteTime": {
     "end_time": "2020-04-11T15:35:57.213960Z",
     "start_time": "2020-04-11T15:35:57.198300Z"
    }
   },
   "outputs": [
    {
     "data": {
      "text/plain": [
       "array([[3773,  505],\n",
       "       [ 195, 1527]], dtype=int64)"
      ]
     },
     "execution_count": 78,
     "metadata": {},
     "output_type": "execute_result"
    }
   ],
   "source": [
    "confusion_matrix(y_test, y_pred)"
   ]
  },
  {
   "cell_type": "code",
   "execution_count": 79,
   "metadata": {
    "ExecuteTime": {
     "end_time": "2020-04-11T15:36:05.540336Z",
     "start_time": "2020-04-11T15:36:05.530341Z"
    }
   },
   "outputs": [
    {
     "name": "stdout",
     "output_type": "stream",
     "text": [
      "Test accuracy: 88.33%\n"
     ]
    }
   ],
   "source": [
    "print(f'Test accuracy: {100*accuracy_score(y_test, y_pred):.2f}%')"
   ]
  },
  {
   "cell_type": "markdown",
   "metadata": {},
   "source": [
    "Saved model is a bit better than one fitted in the beggining."
   ]
  }
 ],
 "metadata": {
  "kernelspec": {
   "display_name": "Python 3",
   "language": "python",
   "name": "python3"
  },
  "language_info": {
   "codemirror_mode": {
    "name": "ipython",
    "version": 3
   },
   "file_extension": ".py",
   "mimetype": "text/x-python",
   "name": "python",
   "nbconvert_exporter": "python",
   "pygments_lexer": "ipython3",
   "version": "3.7.7"
  },
  "toc": {
   "base_numbering": 1,
   "nav_menu": {},
   "number_sections": true,
   "sideBar": true,
   "skip_h1_title": false,
   "title_cell": "Table of Contents",
   "title_sidebar": "Contents",
   "toc_cell": false,
   "toc_position": {
    "height": "calc(100% - 180px)",
    "left": "10px",
    "top": "150px",
    "width": "384px"
   },
   "toc_section_display": true,
   "toc_window_display": true
  },
  "varInspector": {
   "cols": {
    "lenName": 16,
    "lenType": 16,
    "lenVar": 40
   },
   "kernels_config": {
    "python": {
     "delete_cmd_postfix": "",
     "delete_cmd_prefix": "del ",
     "library": "var_list.py",
     "varRefreshCmd": "print(var_dic_list())"
    },
    "r": {
     "delete_cmd_postfix": ") ",
     "delete_cmd_prefix": "rm(",
     "library": "var_list.r",
     "varRefreshCmd": "cat(var_dic_list()) "
    }
   },
   "types_to_exclude": [
    "module",
    "function",
    "builtin_function_or_method",
    "instance",
    "_Feature"
   ],
   "window_display": false
  }
 },
 "nbformat": 4,
 "nbformat_minor": 4
}
