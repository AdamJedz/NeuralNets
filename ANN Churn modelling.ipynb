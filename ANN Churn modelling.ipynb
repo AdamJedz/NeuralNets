{
 "cells": [
  {
   "cell_type": "markdown",
   "metadata": {},
   "source": [
    "# Background"
   ]
  },
  {
   "cell_type": "markdown",
   "metadata": {},
   "source": [
    "Simple churn prediction analysis (whether client leaves a bank or not)."
   ]
  },
  {
   "cell_type": "code",
   "execution_count": 726,
   "metadata": {
    "ExecuteTime": {
     "end_time": "2020-04-14T14:08:54.098528Z",
     "start_time": "2020-04-14T14:08:54.087151Z"
    }
   },
   "outputs": [],
   "source": [
    "import pandas as pd\n",
    "import numpy as np\n",
    "\n",
    "import torch\n",
    "import torch.nn as nn\n",
    "import torch.nn.functional as F\n",
    "\n",
    "from sklearn.model_selection import train_test_split\n",
    "from sklearn.preprocessing import StandardScaler, LabelEncoder, OneHotEncoder\n",
    "\n",
    "import matplotlib.pyplot as plt\n",
    "%matplotlib inline"
   ]
  },
  {
   "cell_type": "markdown",
   "metadata": {},
   "source": [
    "# Import Dataset"
   ]
  },
  {
   "cell_type": "code",
   "execution_count": 727,
   "metadata": {
    "ExecuteTime": {
     "end_time": "2020-04-14T14:08:54.133151Z",
     "start_time": "2020-04-14T14:08:54.100149Z"
    }
   },
   "outputs": [],
   "source": [
    "df = pd.read_csv('Churn_Modelling.csv')"
   ]
  },
  {
   "cell_type": "code",
   "execution_count": 728,
   "metadata": {
    "ExecuteTime": {
     "end_time": "2020-04-14T14:08:54.155150Z",
     "start_time": "2020-04-14T14:08:54.136151Z"
    }
   },
   "outputs": [
    {
     "data": {
      "text/html": [
       "<div>\n",
       "<style scoped>\n",
       "    .dataframe tbody tr th:only-of-type {\n",
       "        vertical-align: middle;\n",
       "    }\n",
       "\n",
       "    .dataframe tbody tr th {\n",
       "        vertical-align: top;\n",
       "    }\n",
       "\n",
       "    .dataframe thead th {\n",
       "        text-align: right;\n",
       "    }\n",
       "</style>\n",
       "<table border=\"1\" class=\"dataframe\">\n",
       "  <thead>\n",
       "    <tr style=\"text-align: right;\">\n",
       "      <th></th>\n",
       "      <th>RowNumber</th>\n",
       "      <th>CustomerId</th>\n",
       "      <th>Surname</th>\n",
       "      <th>CreditScore</th>\n",
       "      <th>Geography</th>\n",
       "      <th>Gender</th>\n",
       "      <th>Age</th>\n",
       "      <th>Tenure</th>\n",
       "      <th>Balance</th>\n",
       "      <th>NumOfProducts</th>\n",
       "      <th>HasCrCard</th>\n",
       "      <th>IsActiveMember</th>\n",
       "      <th>EstimatedSalary</th>\n",
       "      <th>Exited</th>\n",
       "    </tr>\n",
       "  </thead>\n",
       "  <tbody>\n",
       "    <tr>\n",
       "      <th>0</th>\n",
       "      <td>1</td>\n",
       "      <td>15634602</td>\n",
       "      <td>Hargrave</td>\n",
       "      <td>619</td>\n",
       "      <td>France</td>\n",
       "      <td>Female</td>\n",
       "      <td>42</td>\n",
       "      <td>2</td>\n",
       "      <td>0.00</td>\n",
       "      <td>1</td>\n",
       "      <td>1</td>\n",
       "      <td>1</td>\n",
       "      <td>101348.88</td>\n",
       "      <td>1</td>\n",
       "    </tr>\n",
       "    <tr>\n",
       "      <th>1</th>\n",
       "      <td>2</td>\n",
       "      <td>15647311</td>\n",
       "      <td>Hill</td>\n",
       "      <td>608</td>\n",
       "      <td>Spain</td>\n",
       "      <td>Female</td>\n",
       "      <td>41</td>\n",
       "      <td>1</td>\n",
       "      <td>83807.86</td>\n",
       "      <td>1</td>\n",
       "      <td>0</td>\n",
       "      <td>1</td>\n",
       "      <td>112542.58</td>\n",
       "      <td>0</td>\n",
       "    </tr>\n",
       "    <tr>\n",
       "      <th>2</th>\n",
       "      <td>3</td>\n",
       "      <td>15619304</td>\n",
       "      <td>Onio</td>\n",
       "      <td>502</td>\n",
       "      <td>France</td>\n",
       "      <td>Female</td>\n",
       "      <td>42</td>\n",
       "      <td>8</td>\n",
       "      <td>159660.80</td>\n",
       "      <td>3</td>\n",
       "      <td>1</td>\n",
       "      <td>0</td>\n",
       "      <td>113931.57</td>\n",
       "      <td>1</td>\n",
       "    </tr>\n",
       "    <tr>\n",
       "      <th>3</th>\n",
       "      <td>4</td>\n",
       "      <td>15701354</td>\n",
       "      <td>Boni</td>\n",
       "      <td>699</td>\n",
       "      <td>France</td>\n",
       "      <td>Female</td>\n",
       "      <td>39</td>\n",
       "      <td>1</td>\n",
       "      <td>0.00</td>\n",
       "      <td>2</td>\n",
       "      <td>0</td>\n",
       "      <td>0</td>\n",
       "      <td>93826.63</td>\n",
       "      <td>0</td>\n",
       "    </tr>\n",
       "    <tr>\n",
       "      <th>4</th>\n",
       "      <td>5</td>\n",
       "      <td>15737888</td>\n",
       "      <td>Mitchell</td>\n",
       "      <td>850</td>\n",
       "      <td>Spain</td>\n",
       "      <td>Female</td>\n",
       "      <td>43</td>\n",
       "      <td>2</td>\n",
       "      <td>125510.82</td>\n",
       "      <td>1</td>\n",
       "      <td>1</td>\n",
       "      <td>1</td>\n",
       "      <td>79084.10</td>\n",
       "      <td>0</td>\n",
       "    </tr>\n",
       "  </tbody>\n",
       "</table>\n",
       "</div>"
      ],
      "text/plain": [
       "   RowNumber  CustomerId   Surname  CreditScore Geography  Gender  Age  \\\n",
       "0          1    15634602  Hargrave          619    France  Female   42   \n",
       "1          2    15647311      Hill          608     Spain  Female   41   \n",
       "2          3    15619304      Onio          502    France  Female   42   \n",
       "3          4    15701354      Boni          699    France  Female   39   \n",
       "4          5    15737888  Mitchell          850     Spain  Female   43   \n",
       "\n",
       "   Tenure    Balance  NumOfProducts  HasCrCard  IsActiveMember  \\\n",
       "0       2       0.00              1          1               1   \n",
       "1       1   83807.86              1          0               1   \n",
       "2       8  159660.80              3          1               0   \n",
       "3       1       0.00              2          0               0   \n",
       "4       2  125510.82              1          1               1   \n",
       "\n",
       "   EstimatedSalary  Exited  \n",
       "0        101348.88       1  \n",
       "1        112542.58       0  \n",
       "2        113931.57       1  \n",
       "3         93826.63       0  \n",
       "4         79084.10       0  "
      ]
     },
     "execution_count": 728,
     "metadata": {},
     "output_type": "execute_result"
    }
   ],
   "source": [
    "df.head()"
   ]
  },
  {
   "cell_type": "code",
   "execution_count": 729,
   "metadata": {
    "ExecuteTime": {
     "end_time": "2020-04-14T14:08:54.171176Z",
     "start_time": "2020-04-14T14:08:54.157150Z"
    }
   },
   "outputs": [
    {
     "name": "stdout",
     "output_type": "stream",
     "text": [
      "<class 'pandas.core.frame.DataFrame'>\n",
      "RangeIndex: 10000 entries, 0 to 9999\n",
      "Data columns (total 14 columns):\n",
      " #   Column           Non-Null Count  Dtype  \n",
      "---  ------           --------------  -----  \n",
      " 0   RowNumber        10000 non-null  int64  \n",
      " 1   CustomerId       10000 non-null  int64  \n",
      " 2   Surname          10000 non-null  object \n",
      " 3   CreditScore      10000 non-null  int64  \n",
      " 4   Geography        10000 non-null  object \n",
      " 5   Gender           10000 non-null  object \n",
      " 6   Age              10000 non-null  int64  \n",
      " 7   Tenure           10000 non-null  int64  \n",
      " 8   Balance          10000 non-null  float64\n",
      " 9   NumOfProducts    10000 non-null  int64  \n",
      " 10  HasCrCard        10000 non-null  int64  \n",
      " 11  IsActiveMember   10000 non-null  int64  \n",
      " 12  EstimatedSalary  10000 non-null  float64\n",
      " 13  Exited           10000 non-null  int64  \n",
      "dtypes: float64(2), int64(9), object(3)\n",
      "memory usage: 1.1+ MB\n"
     ]
    }
   ],
   "source": [
    "df.info()"
   ]
  },
  {
   "cell_type": "code",
   "execution_count": 730,
   "metadata": {
    "ExecuteTime": {
     "end_time": "2020-04-14T14:08:54.183153Z",
     "start_time": "2020-04-14T14:08:54.173151Z"
    }
   },
   "outputs": [],
   "source": [
    "df.drop(columns=['RowNumber', 'CustomerId', 'Surname'], inplace=True)"
   ]
  },
  {
   "cell_type": "code",
   "execution_count": 731,
   "metadata": {
    "ExecuteTime": {
     "end_time": "2020-04-14T14:08:54.194149Z",
     "start_time": "2020-04-14T14:08:54.184150Z"
    }
   },
   "outputs": [],
   "source": [
    "target = 'Exited'\n",
    "cat_cols = ['Geography', 'Gender']\n",
    "num_cols = [col for col in df.columns if col not in [target, cat_cols[0], cat_cols[1], 'HasCrCard', 'IsActiveMember']]"
   ]
  },
  {
   "cell_type": "markdown",
   "metadata": {},
   "source": [
    "# Train-test division"
   ]
  },
  {
   "cell_type": "code",
   "execution_count": 732,
   "metadata": {
    "ExecuteTime": {
     "end_time": "2020-04-14T14:08:54.207151Z",
     "start_time": "2020-04-14T14:08:54.195150Z"
    }
   },
   "outputs": [],
   "source": [
    "X_train, X_test, y_train, y_test = train_test_split(\n",
    "    df.drop(target, axis=1), df[target], test_size=.25, random_state=0)"
   ]
  },
  {
   "cell_type": "markdown",
   "metadata": {},
   "source": [
    "# Label Encoding categorical feature"
   ]
  },
  {
   "cell_type": "code",
   "execution_count": 733,
   "metadata": {
    "ExecuteTime": {
     "end_time": "2020-04-14T14:08:54.218182Z",
     "start_time": "2020-04-14T14:08:54.209150Z"
    }
   },
   "outputs": [],
   "source": [
    "l_encoder = LabelEncoder()\n",
    "X_train[cat_cols[0]] = l_encoder.fit_transform(X_train[cat_cols[0]])"
   ]
  },
  {
   "cell_type": "markdown",
   "metadata": {},
   "source": [
    "# One hot encoding categorical feature"
   ]
  },
  {
   "cell_type": "code",
   "execution_count": 734,
   "metadata": {
    "ExecuteTime": {
     "end_time": "2020-04-14T14:08:54.229180Z",
     "start_time": "2020-04-14T14:08:54.221164Z"
    },
    "scrolled": true
   },
   "outputs": [],
   "source": [
    "oh_encoder = OneHotEncoder(sparse=False, drop='first')"
   ]
  },
  {
   "cell_type": "code",
   "execution_count": 735,
   "metadata": {
    "ExecuteTime": {
     "end_time": "2020-04-14T14:08:54.244155Z",
     "start_time": "2020-04-14T14:08:54.230150Z"
    }
   },
   "outputs": [],
   "source": [
    "X_train['Gender_male'] = oh_encoder.fit_transform(X_train[cat_cols[1]].values.reshape(-1,1))"
   ]
  },
  {
   "cell_type": "code",
   "execution_count": 736,
   "metadata": {
    "ExecuteTime": {
     "end_time": "2020-04-14T14:08:54.256175Z",
     "start_time": "2020-04-14T14:08:54.245152Z"
    }
   },
   "outputs": [],
   "source": [
    "X_train.drop(cat_cols[1], axis=1, inplace=True)"
   ]
  },
  {
   "cell_type": "code",
   "execution_count": 737,
   "metadata": {
    "ExecuteTime": {
     "end_time": "2020-04-14T14:08:54.273150Z",
     "start_time": "2020-04-14T14:08:54.258155Z"
    }
   },
   "outputs": [],
   "source": [
    "X_test[cat_cols[0]] = l_encoder.transform(X_test[cat_cols[0]])\n",
    "X_test['Gender_male'] = oh_encoder.transform(X_test[cat_cols[1]].values.reshape(-1,1))\n",
    "X_test.drop(cat_cols[1], axis=1, inplace=True)"
   ]
  },
  {
   "cell_type": "markdown",
   "metadata": {
    "ExecuteTime": {
     "end_time": "2020-04-14T14:08:54.282175Z",
     "start_time": "2020-04-14T14:08:54.275151Z"
    }
   },
   "source": [
    "# Scaling numerical values"
   ]
  },
  {
   "cell_type": "code",
   "execution_count": 739,
   "metadata": {
    "ExecuteTime": {
     "end_time": "2020-04-14T14:08:54.309149Z",
     "start_time": "2020-04-14T14:08:54.283150Z"
    }
   },
   "outputs": [],
   "source": [
    "scaler = StandardScaler()\n",
    "X_train[num_cols] = scaler.fit_transform(X_train[num_cols])\n",
    "X_test[num_cols] = scaler.transform(X_test[num_cols])"
   ]
  },
  {
   "cell_type": "code",
   "execution_count": 740,
   "metadata": {
    "ExecuteTime": {
     "end_time": "2020-04-14T14:08:54.324175Z",
     "start_time": "2020-04-14T14:08:54.310150Z"
    }
   },
   "outputs": [
    {
     "data": {
      "text/html": [
       "<div>\n",
       "<style scoped>\n",
       "    .dataframe tbody tr th:only-of-type {\n",
       "        vertical-align: middle;\n",
       "    }\n",
       "\n",
       "    .dataframe tbody tr th {\n",
       "        vertical-align: top;\n",
       "    }\n",
       "\n",
       "    .dataframe thead th {\n",
       "        text-align: right;\n",
       "    }\n",
       "</style>\n",
       "<table border=\"1\" class=\"dataframe\">\n",
       "  <thead>\n",
       "    <tr style=\"text-align: right;\">\n",
       "      <th></th>\n",
       "      <th>CreditScore</th>\n",
       "      <th>Geography</th>\n",
       "      <th>Age</th>\n",
       "      <th>Tenure</th>\n",
       "      <th>Balance</th>\n",
       "      <th>NumOfProducts</th>\n",
       "      <th>HasCrCard</th>\n",
       "      <th>IsActiveMember</th>\n",
       "      <th>EstimatedSalary</th>\n",
       "      <th>Gender_male</th>\n",
       "    </tr>\n",
       "  </thead>\n",
       "  <tbody>\n",
       "    <tr>\n",
       "      <th>2967</th>\n",
       "      <td>-0.735507</td>\n",
       "      <td>1</td>\n",
       "      <td>0.015266</td>\n",
       "      <td>0.008860</td>\n",
       "      <td>0.673160</td>\n",
       "      <td>2.535034</td>\n",
       "      <td>0</td>\n",
       "      <td>0</td>\n",
       "      <td>-1.640810</td>\n",
       "      <td>0.0</td>\n",
       "    </tr>\n",
       "    <tr>\n",
       "      <th>700</th>\n",
       "      <td>1.024427</td>\n",
       "      <td>0</td>\n",
       "      <td>-0.652609</td>\n",
       "      <td>0.008860</td>\n",
       "      <td>-1.207724</td>\n",
       "      <td>0.804242</td>\n",
       "      <td>1</td>\n",
       "      <td>0</td>\n",
       "      <td>-0.079272</td>\n",
       "      <td>0.0</td>\n",
       "    </tr>\n",
       "    <tr>\n",
       "      <th>3481</th>\n",
       "      <td>0.808295</td>\n",
       "      <td>2</td>\n",
       "      <td>-0.461788</td>\n",
       "      <td>1.393293</td>\n",
       "      <td>-0.356937</td>\n",
       "      <td>0.804242</td>\n",
       "      <td>1</td>\n",
       "      <td>1</td>\n",
       "      <td>-0.996840</td>\n",
       "      <td>0.0</td>\n",
       "    </tr>\n",
       "    <tr>\n",
       "      <th>1621</th>\n",
       "      <td>0.396614</td>\n",
       "      <td>2</td>\n",
       "      <td>-0.080145</td>\n",
       "      <td>0.008860</td>\n",
       "      <td>-0.009356</td>\n",
       "      <td>-0.926551</td>\n",
       "      <td>1</td>\n",
       "      <td>1</td>\n",
       "      <td>-1.591746</td>\n",
       "      <td>1.0</td>\n",
       "    </tr>\n",
       "    <tr>\n",
       "      <th>800</th>\n",
       "      <td>-0.467915</td>\n",
       "      <td>0</td>\n",
       "      <td>1.255605</td>\n",
       "      <td>0.701077</td>\n",
       "      <td>-1.207724</td>\n",
       "      <td>0.804242</td>\n",
       "      <td>1</td>\n",
       "      <td>1</td>\n",
       "      <td>1.283302</td>\n",
       "      <td>1.0</td>\n",
       "    </tr>\n",
       "  </tbody>\n",
       "</table>\n",
       "</div>"
      ],
      "text/plain": [
       "      CreditScore  Geography       Age    Tenure   Balance  NumOfProducts  \\\n",
       "2967    -0.735507          1  0.015266  0.008860  0.673160       2.535034   \n",
       "700      1.024427          0 -0.652609  0.008860 -1.207724       0.804242   \n",
       "3481     0.808295          2 -0.461788  1.393293 -0.356937       0.804242   \n",
       "1621     0.396614          2 -0.080145  0.008860 -0.009356      -0.926551   \n",
       "800     -0.467915          0  1.255605  0.701077 -1.207724       0.804242   \n",
       "\n",
       "      HasCrCard  IsActiveMember  EstimatedSalary  Gender_male  \n",
       "2967          0               0        -1.640810          0.0  \n",
       "700           1               0        -0.079272          0.0  \n",
       "3481          1               1        -0.996840          0.0  \n",
       "1621          1               1        -1.591746          1.0  \n",
       "800           1               1         1.283302          1.0  "
      ]
     },
     "execution_count": 740,
     "metadata": {},
     "output_type": "execute_result"
    }
   ],
   "source": [
    "X_train.head()"
   ]
  },
  {
   "cell_type": "code",
   "execution_count": 741,
   "metadata": {
    "ExecuteTime": {
     "end_time": "2020-04-14T14:08:54.341151Z",
     "start_time": "2020-04-14T14:08:54.326151Z"
    }
   },
   "outputs": [
    {
     "data": {
      "text/html": [
       "<div>\n",
       "<style scoped>\n",
       "    .dataframe tbody tr th:only-of-type {\n",
       "        vertical-align: middle;\n",
       "    }\n",
       "\n",
       "    .dataframe tbody tr th {\n",
       "        vertical-align: top;\n",
       "    }\n",
       "\n",
       "    .dataframe thead th {\n",
       "        text-align: right;\n",
       "    }\n",
       "</style>\n",
       "<table border=\"1\" class=\"dataframe\">\n",
       "  <thead>\n",
       "    <tr style=\"text-align: right;\">\n",
       "      <th></th>\n",
       "      <th>CreditScore</th>\n",
       "      <th>Geography</th>\n",
       "      <th>Age</th>\n",
       "      <th>Tenure</th>\n",
       "      <th>Balance</th>\n",
       "      <th>NumOfProducts</th>\n",
       "      <th>HasCrCard</th>\n",
       "      <th>IsActiveMember</th>\n",
       "      <th>EstimatedSalary</th>\n",
       "      <th>Gender_male</th>\n",
       "    </tr>\n",
       "  </thead>\n",
       "  <tbody>\n",
       "    <tr>\n",
       "      <th>9394</th>\n",
       "      <td>-0.550251</td>\n",
       "      <td>1</td>\n",
       "      <td>-0.366377</td>\n",
       "      <td>1.047185</td>\n",
       "      <td>0.884943</td>\n",
       "      <td>-0.926551</td>\n",
       "      <td>1</td>\n",
       "      <td>1</td>\n",
       "      <td>1.612030</td>\n",
       "      <td>0.0</td>\n",
       "    </tr>\n",
       "    <tr>\n",
       "      <th>898</th>\n",
       "      <td>-1.311860</td>\n",
       "      <td>0</td>\n",
       "      <td>0.110676</td>\n",
       "      <td>-1.029464</td>\n",
       "      <td>0.435867</td>\n",
       "      <td>-0.926551</td>\n",
       "      <td>1</td>\n",
       "      <td>0</td>\n",
       "      <td>0.496269</td>\n",
       "      <td>0.0</td>\n",
       "    </tr>\n",
       "    <tr>\n",
       "      <th>2398</th>\n",
       "      <td>0.571579</td>\n",
       "      <td>2</td>\n",
       "      <td>0.301498</td>\n",
       "      <td>1.047185</td>\n",
       "      <td>0.314864</td>\n",
       "      <td>-0.926551</td>\n",
       "      <td>1</td>\n",
       "      <td>1</td>\n",
       "      <td>-0.425028</td>\n",
       "      <td>0.0</td>\n",
       "    </tr>\n",
       "    <tr>\n",
       "      <th>5906</th>\n",
       "      <td>1.415524</td>\n",
       "      <td>0</td>\n",
       "      <td>-0.652609</td>\n",
       "      <td>-0.337248</td>\n",
       "      <td>0.581318</td>\n",
       "      <td>-0.926551</td>\n",
       "      <td>0</td>\n",
       "      <td>0</td>\n",
       "      <td>-0.187853</td>\n",
       "      <td>1.0</td>\n",
       "    </tr>\n",
       "    <tr>\n",
       "      <th>2343</th>\n",
       "      <td>0.571579</td>\n",
       "      <td>1</td>\n",
       "      <td>-0.080145</td>\n",
       "      <td>0.008860</td>\n",
       "      <td>1.394678</td>\n",
       "      <td>0.804242</td>\n",
       "      <td>1</td>\n",
       "      <td>1</td>\n",
       "      <td>0.617324</td>\n",
       "      <td>1.0</td>\n",
       "    </tr>\n",
       "  </tbody>\n",
       "</table>\n",
       "</div>"
      ],
      "text/plain": [
       "      CreditScore  Geography       Age    Tenure   Balance  NumOfProducts  \\\n",
       "9394    -0.550251          1 -0.366377  1.047185  0.884943      -0.926551   \n",
       "898     -1.311860          0  0.110676 -1.029464  0.435867      -0.926551   \n",
       "2398     0.571579          2  0.301498  1.047185  0.314864      -0.926551   \n",
       "5906     1.415524          0 -0.652609 -0.337248  0.581318      -0.926551   \n",
       "2343     0.571579          1 -0.080145  0.008860  1.394678       0.804242   \n",
       "\n",
       "      HasCrCard  IsActiveMember  EstimatedSalary  Gender_male  \n",
       "9394          1               1         1.612030          0.0  \n",
       "898           1               0         0.496269          0.0  \n",
       "2398          1               1        -0.425028          0.0  \n",
       "5906          0               0        -0.187853          1.0  \n",
       "2343          1               1         0.617324          1.0  "
      ]
     },
     "execution_count": 741,
     "metadata": {},
     "output_type": "execute_result"
    }
   ],
   "source": [
    "X_test.head()"
   ]
  },
  {
   "cell_type": "code",
   "execution_count": 742,
   "metadata": {
    "ExecuteTime": {
     "end_time": "2020-04-14T14:08:54.365150Z",
     "start_time": "2020-04-14T14:08:54.343167Z"
    }
   },
   "outputs": [],
   "source": [
    "X_train_tensor = torch.tensor(X_train.values, dtype=torch.float).cuda()\n",
    "X_test_tensor = torch.tensor(X_test.values, dtype=torch.float).cuda()\n",
    "\n",
    "y_train_tensor = torch.tensor(y_train.values, dtype=torch.float).flatten().cuda()\n",
    "y_test_tensor = torch.tensor(y_test.values, dtype=torch.float).flatten().cuda()"
   ]
  },
  {
   "cell_type": "code",
   "execution_count": 743,
   "metadata": {
    "ExecuteTime": {
     "end_time": "2020-04-14T14:08:54.381186Z",
     "start_time": "2020-04-14T14:08:54.367160Z"
    }
   },
   "outputs": [
    {
     "data": {
      "text/plain": [
       "tensor([[-0.7355,  1.0000,  0.0153,  ...,  0.0000, -1.6408,  0.0000],\n",
       "        [ 1.0244,  0.0000, -0.6526,  ...,  0.0000, -0.0793,  0.0000],\n",
       "        [ 0.8083,  2.0000, -0.4618,  ...,  1.0000, -0.9968,  0.0000],\n",
       "        ...,\n",
       "        [ 0.9009,  0.0000, -0.3664,  ...,  0.0000,  1.4134,  1.0000],\n",
       "        [-0.6223,  2.0000, -0.0801,  ...,  1.0000,  0.8450,  0.0000],\n",
       "        [-0.2827,  1.0000,  0.8740,  ...,  0.0000,  0.3250,  0.0000]],\n",
       "       device='cuda:0')"
      ]
     },
     "execution_count": 743,
     "metadata": {},
     "output_type": "execute_result"
    }
   ],
   "source": [
    "X_train_tensor"
   ]
  },
  {
   "cell_type": "code",
   "execution_count": 744,
   "metadata": {
    "ExecuteTime": {
     "end_time": "2020-04-14T14:08:54.390152Z",
     "start_time": "2020-04-14T14:08:54.382150Z"
    }
   },
   "outputs": [
    {
     "data": {
      "text/plain": [
       "tensor([1., 0., 0.,  ..., 0., 0., 1.], device='cuda:0')"
      ]
     },
     "execution_count": 744,
     "metadata": {},
     "output_type": "execute_result"
    }
   ],
   "source": [
    "y_train_tensor"
   ]
  },
  {
   "cell_type": "markdown",
   "metadata": {},
   "source": [
    "# NN module creation"
   ]
  },
  {
   "cell_type": "markdown",
   "metadata": {},
   "source": [
    "Two hidden layers (fully connected) with ReLU activation function and output layer with sigmoid function (because this is binary classification)."
   ]
  },
  {
   "cell_type": "code",
   "execution_count": 745,
   "metadata": {
    "ExecuteTime": {
     "end_time": "2020-04-14T14:08:54.398152Z",
     "start_time": "2020-04-14T14:08:54.392152Z"
    }
   },
   "outputs": [],
   "source": [
    "class ChurnClassNet(nn.Module):\n",
    "    def __init__(self):\n",
    "        super().__init__()\n",
    "        self.layers = nn.Sequential(nn.Linear(10, 6),\n",
    "                                    nn.ReLU(inplace=True),\n",
    "                                    nn.Linear(6, 6),\n",
    "                                    nn.ReLU(inplace=True),\n",
    "                                    nn.Linear(6, 1),\n",
    "                                    nn.Sigmoid())\n",
    "\n",
    "    def forward(self, X):\n",
    "        return self.layers(X)"
   ]
  },
  {
   "cell_type": "code",
   "execution_count": 746,
   "metadata": {
    "ExecuteTime": {
     "end_time": "2020-04-14T14:08:54.409153Z",
     "start_time": "2020-04-14T14:08:54.399150Z"
    }
   },
   "outputs": [],
   "source": [
    "torch.manual_seed(0)\n",
    "model = ChurnClassNet().cuda()"
   ]
  },
  {
   "cell_type": "code",
   "execution_count": 747,
   "metadata": {
    "ExecuteTime": {
     "end_time": "2020-04-14T14:08:54.418149Z",
     "start_time": "2020-04-14T14:08:54.411152Z"
    }
   },
   "outputs": [
    {
     "name": "stdout",
     "output_type": "stream",
     "text": [
      "60\n",
      "6\n",
      "36\n",
      "6\n",
      "6\n",
      "1\n"
     ]
    }
   ],
   "source": [
    "for param in model.parameters():\n",
    "    print(param.numel())"
   ]
  },
  {
   "cell_type": "code",
   "execution_count": 748,
   "metadata": {
    "ExecuteTime": {
     "end_time": "2020-04-14T14:08:54.428153Z",
     "start_time": "2020-04-14T14:08:54.423150Z"
    }
   },
   "outputs": [],
   "source": [
    "criterion = nn.BCELoss()\n",
    "optimizer = torch.optim.Adam(model.parameters(), lr=.001)"
   ]
  },
  {
   "cell_type": "code",
   "execution_count": 749,
   "metadata": {
    "ExecuteTime": {
     "end_time": "2020-04-14T14:08:54.437185Z",
     "start_time": "2020-04-14T14:08:54.432152Z"
    }
   },
   "outputs": [],
   "source": [
    "from sklearn.metrics import accuracy_score"
   ]
  },
  {
   "cell_type": "code",
   "execution_count": 750,
   "metadata": {
    "ExecuteTime": {
     "end_time": "2020-04-14T14:08:54.447150Z",
     "start_time": "2020-04-14T14:08:54.438149Z"
    }
   },
   "outputs": [],
   "source": [
    "from torch.utils.data import DataLoader"
   ]
  },
  {
   "cell_type": "code",
   "execution_count": 751,
   "metadata": {
    "ExecuteTime": {
     "end_time": "2020-04-14T14:08:54.457175Z",
     "start_time": "2020-04-14T14:08:54.449151Z"
    }
   },
   "outputs": [],
   "source": [
    "train_dataset = torch.utils.data.TensorDataset(X_train_tensor, y_train_tensor)\n",
    "test_dataset= torch.utils.data.TensorDataset(X_test_tensor, y_test_tensor)"
   ]
  },
  {
   "cell_type": "code",
   "execution_count": 752,
   "metadata": {
    "ExecuteTime": {
     "end_time": "2020-04-14T14:08:54.467150Z",
     "start_time": "2020-04-14T14:08:54.459156Z"
    }
   },
   "outputs": [],
   "source": [
    "train_loader = DataLoader(dataset=train_dataset,\n",
    "                         batch_size=10,\n",
    "                         shuffle=True)"
   ]
  },
  {
   "cell_type": "markdown",
   "metadata": {},
   "source": [
    "# Network training"
   ]
  },
  {
   "cell_type": "code",
   "execution_count": 753,
   "metadata": {
    "ExecuteTime": {
     "end_time": "2020-04-14T14:15:01.403983Z",
     "start_time": "2020-04-14T14:08:54.469151Z"
    }
   },
   "outputs": [
    {
     "name": "stdout",
     "output_type": "stream",
     "text": [
      "Epoch: 5 Loss: 0.2435123473405838 Accuracy: 82.32 Test Accuracy: 83.56\n",
      "Epoch: 10 Loss: 0.5694916844367981 Accuracy: 84.36 Test Accuracy: 85.20\n",
      "Epoch: 15 Loss: 0.16298285126686096 Accuracy: 85.09 Test Accuracy: 85.88\n",
      "Epoch: 20 Loss: 0.6412947773933411 Accuracy: 85.27 Test Accuracy: 85.96\n",
      "Epoch: 25 Loss: 0.11677823215723038 Accuracy: 85.80 Test Accuracy: 85.96\n",
      "Epoch: 30 Loss: 0.21116474270820618 Accuracy: 85.35 Test Accuracy: 86.12\n",
      "Epoch: 35 Loss: 0.415447473526001 Accuracy: 85.63 Test Accuracy: 86.08\n",
      "Epoch: 40 Loss: 0.6681535840034485 Accuracy: 85.71 Test Accuracy: 86.12\n",
      "Epoch: 45 Loss: 0.10102848708629608 Accuracy: 85.68 Test Accuracy: 86.28\n",
      "Epoch: 50 Loss: 0.07432686537504196 Accuracy: 85.76 Test Accuracy: 86.32\n",
      "Epoch: 55 Loss: 0.11757679283618927 Accuracy: 85.57 Test Accuracy: 85.48\n",
      "Epoch: 60 Loss: 0.492320716381073 Accuracy: 85.59 Test Accuracy: 86.24\n",
      "Epoch: 65 Loss: 0.2830164432525635 Accuracy: 85.83 Test Accuracy: 86.00\n",
      "Epoch: 70 Loss: 0.4734157919883728 Accuracy: 85.71 Test Accuracy: 86.04\n",
      "Epoch: 75 Loss: 0.17375217378139496 Accuracy: 85.71 Test Accuracy: 86.08\n",
      "Epoch: 80 Loss: 0.1305512636899948 Accuracy: 85.63 Test Accuracy: 86.16\n",
      "Epoch: 85 Loss: 0.18371757864952087 Accuracy: 85.55 Test Accuracy: 85.84\n",
      "Epoch: 90 Loss: 0.3519328832626343 Accuracy: 85.55 Test Accuracy: 85.88\n",
      "Epoch: 95 Loss: 0.5078727006912231 Accuracy: 85.75 Test Accuracy: 85.92\n",
      "Epoch: 100 Loss: 0.2220398187637329 Accuracy: 85.65 Test Accuracy: 86.04\n",
      "Duration of training: 6.12 minutes\n"
     ]
    }
   ],
   "source": [
    "import time\n",
    "start_time = time.time()\n",
    "\n",
    "epochs = 100\n",
    "train_loss = []\n",
    "test_loss = []\n",
    "train_accuracy = []\n",
    "test_accuracy = []\n",
    "\n",
    "for i in range(epochs):\n",
    "    i += 1\n",
    "    trn_corr = 0\n",
    "    for b, (X_train, y_train) in enumerate(train_loader):\n",
    "        y_pred = model(X_train)\n",
    "        loss = criterion(y_pred, y_train.reshape(-1,1))\n",
    "        y_pred = y_pred.cpu()\n",
    "        y_pred = np.where(y_pred > .5, 1, 0)\n",
    "        y_pred = y_pred.reshape(1,-1)\n",
    "        batch_corr = (y_pred == y_train.cpu().numpy()).sum()\n",
    "        trn_corr += batch_corr\n",
    "        \n",
    "        \n",
    "        optimizer.zero_grad()\n",
    "        loss.backward()\n",
    "        optimizer.step()\n",
    "    \n",
    "    trn_acc = trn_corr/7500\n",
    "    train_accuracy.append(trn_acc)\n",
    "    train_loss.append(loss)\n",
    "    \n",
    "    with torch.no_grad():\n",
    "        y_pred = model(X_test_tensor)\n",
    "        tst_loss = criterion(y_pred, y_test_tensor.reshape(-1,1))\n",
    "        test_loss.append(tst_loss)\n",
    "        \n",
    "        y_pred = y_pred.cpu()\n",
    "        y_pred = np.where(y_pred > .5, 1,0)\n",
    "        tst_acc = accuracy_score(y_test, y_pred)\n",
    "        test_accuracy.append(tst_acc)\n",
    "    if i%5==0:\n",
    "        print(f'Epoch: {i} Loss: {loss.item()} Accuracy: {trn_acc*100:.2f} Test Accuracy: {tst_acc*100:.2f}')\n",
    "\n",
    "print(f'Duration of training: {(time.time() - start_time)/60:.2f} minutes')"
   ]
  },
  {
   "cell_type": "markdown",
   "metadata": {},
   "source": [
    "# Metrics vizualizations"
   ]
  },
  {
   "cell_type": "code",
   "execution_count": 754,
   "metadata": {
    "ExecuteTime": {
     "end_time": "2020-04-14T14:15:01.551984Z",
     "start_time": "2020-04-14T14:15:01.404984Z"
    }
   },
   "outputs": [
    {
     "data": {
      "text/plain": [
       "Text(0, 0.5, 'Binary CrossEntropy Loss')"
      ]
     },
     "execution_count": 754,
     "metadata": {},
     "output_type": "execute_result"
    },
    {
     "data": {
      "image/png": "[encoded data removed]",
      "text/plain": [
       "<Figure size 1440x360 with 1 Axes>"
      ]
     },
     "metadata": {
      "needs_background": "light"
     },
     "output_type": "display_data"
    }
   ],
   "source": [
    "plt.figure(figsize=(20,5))\n",
    "plt.plot(range(epochs), train_accuracy, label = 'train accuracy')\n",
    "plt.plot(range(epochs), test_accuracy, label = 'test accuracy')\n",
    "plt.legend()\n",
    "plt.xlabel('Epochs')\n",
    "plt.ylabel('Binary CrossEntropy Loss')"
   ]
  },
  {
   "cell_type": "code",
   "execution_count": 755,
   "metadata": {
    "ExecuteTime": {
     "end_time": "2020-04-14T14:15:01.711009Z",
     "start_time": "2020-04-14T14:15:01.552986Z"
    },
    "scrolled": true
   },
   "outputs": [
    {
     "data": {
      "text/plain": [
       "Text(0, 0.5, 'Accuracy score')"
      ]
     },
     "execution_count": 755,
     "metadata": {},
     "output_type": "execute_result"
    },
    {
     "data": {
      "image/png": "[encoded data removed]",
      "text/plain": [
       "<Figure size 1440x360 with 1 Axes>"
      ]
     },
     "metadata": {
      "needs_background": "light"
     },
     "output_type": "display_data"
    }
   ],
   "source": [
    "plt.figure(figsize=(20,5))\n",
    "plt.plot(range(epochs), train_loss, label = 'train loss')\n",
    "plt.plot(range(epochs), test_loss, label = 'test loss')\n",
    "plt.legend()\n",
    "plt.xlabel('Epochs')\n",
    "plt.ylabel('Accuracy score')"
   ]
  },
  {
   "cell_type": "markdown",
   "metadata": {},
   "source": [
    "# ROC curve to set bes threshold"
   ]
  },
  {
   "cell_type": "code",
   "execution_count": 756,
   "metadata": {
    "ExecuteTime": {
     "end_time": "2020-04-14T14:15:01.716990Z",
     "start_time": "2020-04-14T14:15:01.711982Z"
    }
   },
   "outputs": [],
   "source": [
    "with torch.no_grad():\n",
    "    y_pred = model(X_test_tensor)"
   ]
  },
  {
   "cell_type": "code",
   "execution_count": 757,
   "metadata": {
    "ExecuteTime": {
     "end_time": "2020-04-14T14:15:01.720985Z",
     "start_time": "2020-04-14T14:15:01.718987Z"
    }
   },
   "outputs": [],
   "source": [
    "from sklearn.metrics import roc_curve"
   ]
  },
  {
   "cell_type": "code",
   "execution_count": 758,
   "metadata": {
    "ExecuteTime": {
     "end_time": "2020-04-14T14:15:01.728009Z",
     "start_time": "2020-04-14T14:15:01.721984Z"
    }
   },
   "outputs": [],
   "source": [
    "fpr, tpr, threshold = roc_curve(y_test, y_pred.cpu())"
   ]
  },
  {
   "cell_type": "code",
   "execution_count": 759,
   "metadata": {
    "ExecuteTime": {
     "end_time": "2020-04-14T14:15:01.844984Z",
     "start_time": "2020-04-14T14:15:01.729988Z"
    }
   },
   "outputs": [
    {
     "data": {
      "text/plain": [
       "Text(0, 0.5, 'True Positive Ratio')"
      ]
     },
     "execution_count": 759,
     "metadata": {},
     "output_type": "execute_result"
    },
    {
     "data": {
      "image/png": "[encoded data removed]",
      "text/plain": [
       "<Figure size 504x504 with 1 Axes>"
      ]
     },
     "metadata": {
      "needs_background": "light"
     },
     "output_type": "display_data"
    }
   ],
   "source": [
    "plt.figure(figsize=(7,7))\n",
    "plt.plot(fpr, tpr)\n",
    "plt.xlabel('False Positive Ratio')\n",
    "plt.ylabel('True Positive Ratio')"
   ]
  },
  {
   "cell_type": "code",
   "execution_count": 760,
   "metadata": {
    "ExecuteTime": {
     "end_time": "2020-04-14T14:15:01.850984Z",
     "start_time": "2020-04-14T14:15:01.846986Z"
    },
    "scrolled": true
   },
   "outputs": [
    {
     "data": {
      "text/plain": [
       "0.15821494"
      ]
     },
     "execution_count": 760,
     "metadata": {},
     "output_type": "execute_result"
    }
   ],
   "source": [
    "threshold[(tpr >=.8) & (tpr <=.85) & (fpr >= .3) & (fpr <= .35)].mean()"
   ]
  },
  {
   "cell_type": "markdown",
   "metadata": {},
   "source": [
    "Basing on test data - best theshold would be somewhere around 0,16."
   ]
  },
  {
   "cell_type": "markdown",
   "metadata": {},
   "source": [
    "# Next steps"
   ]
  },
  {
   "cell_type": "markdown",
   "metadata": {},
   "source": [
    "Change categorical variables to embedding."
   ]
  }
 ],
 "metadata": {
  "kernelspec": {
   "display_name": "Python 3",
   "language": "python",
   "name": "python3"
  },
  "language_info": {
   "codemirror_mode": {
    "name": "ipython",
    "version": 3
   },
   "file_extension": ".py",
   "mimetype": "text/x-python",
   "name": "python",
   "nbconvert_exporter": "python",
   "pygments_lexer": "ipython3",
   "version": "3.7.7"
  },
  "toc": {
   "base_numbering": 1,
   "nav_menu": {},
   "number_sections": true,
   "sideBar": true,
   "skip_h1_title": false,
   "title_cell": "Table of Contents",
   "title_sidebar": "Contents",
   "toc_cell": false,
   "toc_position": {},
   "toc_section_display": true,
   "toc_window_display": false
  },
  "varInspector": {
   "cols": {
    "lenName": 16,
    "lenType": 16,
    "lenVar": 40
   },
   "kernels_config": {
    "python": {
     "delete_cmd_postfix": "",
     "delete_cmd_prefix": "del ",
     "library": "var_list.py",
     "varRefreshCmd": "print(var_dic_list())"
    },
    "r": {
     "delete_cmd_postfix": ") ",
     "delete_cmd_prefix": "rm(",
     "library": "var_list.r",
     "varRefreshCmd": "cat(var_dic_list()) "
    }
   },
   "types_to_exclude": [
    "module",
    "function",
    "builtin_function_or_method",
    "instance",
    "_Feature"
   ],
   "window_display": false
  }
 },
 "nbformat": 4,
 "nbformat_minor": 4
}
